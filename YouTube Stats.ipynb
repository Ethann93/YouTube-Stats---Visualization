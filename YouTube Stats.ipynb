{
 "cells": [
  {
   "cell_type": "code",
   "execution_count": 144,
   "id": "4e2f12e6",
   "metadata": {},
   "outputs": [],
   "source": [
    "# YouTube Stats Analytics "
   ]
  },
  {
   "cell_type": "markdown",
   "id": "c9a98fc2",
   "metadata": {},
   "source": [
    "import pandas as pd\n",
    "import numpy as np\n",
    "import seaborn as sns\n",
    "import matplotlib.pyplot as plt\n",
    "import matplotlib.colors as mcolors\n",
    "\n",
    "import plotly.express as px"
   ]
  },
  {
   "cell_type": "code",
   "execution_count": 50,
   "id": "9b698b0b",
   "metadata": {},
   "outputs": [],
   "source": [
    "df = pd.read_csv('Global YouTube Statistics.csv', encoding = 'latin1')"
   ]
  },
  {
   "cell_type": "markdown",
   "id": "a1b8c5c5",
   "metadata": {},
   "source": [
    "## Data Cleaning and preparation"
   ]
  },
  {
   "cell_type": "code",
   "execution_count": 51,
   "id": "a9dc1216",
   "metadata": {},
   "outputs": [
    {
     "data": {
      "text/html": [
       "<div>\n",
       "<style scoped>\n",
       "    .dataframe tbody tr th:only-of-type {\n",
       "        vertical-align: middle;\n",
       "    }\n",
       "\n",
       "    .dataframe tbody tr th {\n",
       "        vertical-align: top;\n",
       "    }\n",
       "\n",
       "    .dataframe thead th {\n",
       "        text-align: right;\n",
       "    }\n",
       "</style>\n",
       "<table border=\"1\" class=\"dataframe\">\n",
       "  <thead>\n",
       "    <tr style=\"text-align: right;\">\n",
       "      <th></th>\n",
       "      <th>rank</th>\n",
       "      <th>Youtuber</th>\n",
       "      <th>subscribers</th>\n",
       "      <th>video views</th>\n",
       "      <th>category</th>\n",
       "      <th>Title</th>\n",
       "      <th>uploads</th>\n",
       "      <th>Country</th>\n",
       "      <th>Abbreviation</th>\n",
       "      <th>channel_type</th>\n",
       "      <th>...</th>\n",
       "      <th>subscribers_for_last_30_days</th>\n",
       "      <th>created_year</th>\n",
       "      <th>created_month</th>\n",
       "      <th>created_date</th>\n",
       "      <th>Gross tertiary education enrollment (%)</th>\n",
       "      <th>Population</th>\n",
       "      <th>Unemployment rate</th>\n",
       "      <th>Urban_population</th>\n",
       "      <th>Latitude</th>\n",
       "      <th>Longitude</th>\n",
       "    </tr>\n",
       "  </thead>\n",
       "  <tbody>\n",
       "    <tr>\n",
       "      <th>0</th>\n",
       "      <td>1</td>\n",
       "      <td>T-Series</td>\n",
       "      <td>245000000</td>\n",
       "      <td>228000000000</td>\n",
       "      <td>Music</td>\n",
       "      <td>T-Series</td>\n",
       "      <td>20082</td>\n",
       "      <td>India</td>\n",
       "      <td>IN</td>\n",
       "      <td>Music</td>\n",
       "      <td>...</td>\n",
       "      <td>2000000</td>\n",
       "      <td>2006</td>\n",
       "      <td>Mar</td>\n",
       "      <td>13</td>\n",
       "      <td>28</td>\n",
       "      <td>1366417754</td>\n",
       "      <td>5</td>\n",
       "      <td>471031528</td>\n",
       "      <td>21</td>\n",
       "      <td>79</td>\n",
       "    </tr>\n",
       "    <tr>\n",
       "      <th>1</th>\n",
       "      <td>2</td>\n",
       "      <td>YouTube Movies</td>\n",
       "      <td>170000000</td>\n",
       "      <td>0</td>\n",
       "      <td>Film &amp; Animation</td>\n",
       "      <td>youtubemovies</td>\n",
       "      <td>1</td>\n",
       "      <td>United States</td>\n",
       "      <td>US</td>\n",
       "      <td>Games</td>\n",
       "      <td>...</td>\n",
       "      <td>NaN</td>\n",
       "      <td>2006</td>\n",
       "      <td>Mar</td>\n",
       "      <td>5</td>\n",
       "      <td>88</td>\n",
       "      <td>328239523</td>\n",
       "      <td>15</td>\n",
       "      <td>270663028</td>\n",
       "      <td>37</td>\n",
       "      <td>-96</td>\n",
       "    </tr>\n",
       "    <tr>\n",
       "      <th>2</th>\n",
       "      <td>3</td>\n",
       "      <td>MrBeast</td>\n",
       "      <td>166000000</td>\n",
       "      <td>28368841870</td>\n",
       "      <td>Entertainment</td>\n",
       "      <td>MrBeast</td>\n",
       "      <td>741</td>\n",
       "      <td>United States</td>\n",
       "      <td>US</td>\n",
       "      <td>Entertainment</td>\n",
       "      <td>...</td>\n",
       "      <td>8000000</td>\n",
       "      <td>2012</td>\n",
       "      <td>Feb</td>\n",
       "      <td>20</td>\n",
       "      <td>88</td>\n",
       "      <td>328239523</td>\n",
       "      <td>15</td>\n",
       "      <td>270663028</td>\n",
       "      <td>37</td>\n",
       "      <td>-96</td>\n",
       "    </tr>\n",
       "    <tr>\n",
       "      <th>3</th>\n",
       "      <td>4</td>\n",
       "      <td>Cocomelon - Nursery Rhymes</td>\n",
       "      <td>162000000</td>\n",
       "      <td>164000000000</td>\n",
       "      <td>Education</td>\n",
       "      <td>Cocomelon - Nursery Rhymes</td>\n",
       "      <td>966</td>\n",
       "      <td>United States</td>\n",
       "      <td>US</td>\n",
       "      <td>Education</td>\n",
       "      <td>...</td>\n",
       "      <td>1000000</td>\n",
       "      <td>2006</td>\n",
       "      <td>Sep</td>\n",
       "      <td>1</td>\n",
       "      <td>88</td>\n",
       "      <td>328239523</td>\n",
       "      <td>15</td>\n",
       "      <td>270663028</td>\n",
       "      <td>37</td>\n",
       "      <td>-96</td>\n",
       "    </tr>\n",
       "    <tr>\n",
       "      <th>4</th>\n",
       "      <td>5</td>\n",
       "      <td>SET India</td>\n",
       "      <td>159000000</td>\n",
       "      <td>148000000000</td>\n",
       "      <td>Shows</td>\n",
       "      <td>SET India</td>\n",
       "      <td>116536</td>\n",
       "      <td>India</td>\n",
       "      <td>IN</td>\n",
       "      <td>Entertainment</td>\n",
       "      <td>...</td>\n",
       "      <td>1000000</td>\n",
       "      <td>2006</td>\n",
       "      <td>Sep</td>\n",
       "      <td>20</td>\n",
       "      <td>28</td>\n",
       "      <td>1366417754</td>\n",
       "      <td>5</td>\n",
       "      <td>471031528</td>\n",
       "      <td>21</td>\n",
       "      <td>79</td>\n",
       "    </tr>\n",
       "    <tr>\n",
       "      <th>...</th>\n",
       "      <td>...</td>\n",
       "      <td>...</td>\n",
       "      <td>...</td>\n",
       "      <td>...</td>\n",
       "      <td>...</td>\n",
       "      <td>...</td>\n",
       "      <td>...</td>\n",
       "      <td>...</td>\n",
       "      <td>...</td>\n",
       "      <td>...</td>\n",
       "      <td>...</td>\n",
       "      <td>...</td>\n",
       "      <td>...</td>\n",
       "      <td>...</td>\n",
       "      <td>...</td>\n",
       "      <td>...</td>\n",
       "      <td>...</td>\n",
       "      <td>...</td>\n",
       "      <td>...</td>\n",
       "      <td>...</td>\n",
       "      <td>...</td>\n",
       "    </tr>\n",
       "    <tr>\n",
       "      <th>990</th>\n",
       "      <td>991</td>\n",
       "      <td>Natan por Aï¿</td>\n",
       "      <td>12300000</td>\n",
       "      <td>9029609749</td>\n",
       "      <td>Sports</td>\n",
       "      <td>Natan por Aï¿</td>\n",
       "      <td>1200</td>\n",
       "      <td>Brazil</td>\n",
       "      <td>BR</td>\n",
       "      <td>Entertainment</td>\n",
       "      <td>...</td>\n",
       "      <td>700000</td>\n",
       "      <td>2017</td>\n",
       "      <td>Feb</td>\n",
       "      <td>12</td>\n",
       "      <td>51</td>\n",
       "      <td>212559417</td>\n",
       "      <td>12</td>\n",
       "      <td>183241641</td>\n",
       "      <td>-14</td>\n",
       "      <td>-52</td>\n",
       "    </tr>\n",
       "    <tr>\n",
       "      <th>991</th>\n",
       "      <td>992</td>\n",
       "      <td>Free Fire India Official</td>\n",
       "      <td>12300000</td>\n",
       "      <td>1674409945</td>\n",
       "      <td>People &amp; Blogs</td>\n",
       "      <td>Free Fire India Official</td>\n",
       "      <td>1500</td>\n",
       "      <td>India</td>\n",
       "      <td>IN</td>\n",
       "      <td>Games</td>\n",
       "      <td>...</td>\n",
       "      <td>300000</td>\n",
       "      <td>2018</td>\n",
       "      <td>Sep</td>\n",
       "      <td>14</td>\n",
       "      <td>28</td>\n",
       "      <td>1366417754</td>\n",
       "      <td>5</td>\n",
       "      <td>471031528</td>\n",
       "      <td>21</td>\n",
       "      <td>79</td>\n",
       "    </tr>\n",
       "    <tr>\n",
       "      <th>992</th>\n",
       "      <td>993</td>\n",
       "      <td>Panda</td>\n",
       "      <td>12300000</td>\n",
       "      <td>2214684303</td>\n",
       "      <td>NaN</td>\n",
       "      <td>HybridPanda</td>\n",
       "      <td>2452</td>\n",
       "      <td>United Kingdom</td>\n",
       "      <td>GB</td>\n",
       "      <td>Games</td>\n",
       "      <td>...</td>\n",
       "      <td>1000</td>\n",
       "      <td>2006</td>\n",
       "      <td>Sep</td>\n",
       "      <td>11</td>\n",
       "      <td>60</td>\n",
       "      <td>66834405</td>\n",
       "      <td>4</td>\n",
       "      <td>55908316</td>\n",
       "      <td>55</td>\n",
       "      <td>-3</td>\n",
       "    </tr>\n",
       "    <tr>\n",
       "      <th>993</th>\n",
       "      <td>994</td>\n",
       "      <td>RobTopGames</td>\n",
       "      <td>12300000</td>\n",
       "      <td>374123483</td>\n",
       "      <td>Gaming</td>\n",
       "      <td>RobTopGames</td>\n",
       "      <td>39</td>\n",
       "      <td>Sweden</td>\n",
       "      <td>SE</td>\n",
       "      <td>Games</td>\n",
       "      <td>...</td>\n",
       "      <td>100000</td>\n",
       "      <td>2012</td>\n",
       "      <td>May</td>\n",
       "      <td>9</td>\n",
       "      <td>67</td>\n",
       "      <td>10285453</td>\n",
       "      <td>6</td>\n",
       "      <td>9021165</td>\n",
       "      <td>60</td>\n",
       "      <td>19</td>\n",
       "    </tr>\n",
       "    <tr>\n",
       "      <th>994</th>\n",
       "      <td>995</td>\n",
       "      <td>Make Joke Of</td>\n",
       "      <td>12300000</td>\n",
       "      <td>2129773714</td>\n",
       "      <td>Comedy</td>\n",
       "      <td>Make Joke Of</td>\n",
       "      <td>62</td>\n",
       "      <td>India</td>\n",
       "      <td>IN</td>\n",
       "      <td>Comedy</td>\n",
       "      <td>...</td>\n",
       "      <td>100000</td>\n",
       "      <td>2017</td>\n",
       "      <td>Aug</td>\n",
       "      <td>1</td>\n",
       "      <td>28</td>\n",
       "      <td>1366417754</td>\n",
       "      <td>5</td>\n",
       "      <td>471031528</td>\n",
       "      <td>21</td>\n",
       "      <td>79</td>\n",
       "    </tr>\n",
       "  </tbody>\n",
       "</table>\n",
       "<p>995 rows × 28 columns</p>\n",
       "</div>"
      ],
      "text/plain": [
       "     rank                    Youtuber  subscribers  video views  \\\n",
       "0       1                    T-Series    245000000 228000000000   \n",
       "1       2              YouTube Movies    170000000            0   \n",
       "2       3                     MrBeast    166000000  28368841870   \n",
       "3       4  Cocomelon - Nursery Rhymes    162000000 164000000000   \n",
       "4       5                   SET India    159000000 148000000000   \n",
       "..    ...                         ...          ...          ...   \n",
       "990   991               Natan por Aï¿     12300000   9029609749   \n",
       "991   992    Free Fire India Official     12300000   1674409945   \n",
       "992   993                       Panda     12300000   2214684303   \n",
       "993   994                 RobTopGames     12300000    374123483   \n",
       "994   995                Make Joke Of     12300000   2129773714   \n",
       "\n",
       "             category                       Title  uploads         Country  \\\n",
       "0               Music                    T-Series    20082           India   \n",
       "1    Film & Animation               youtubemovies        1   United States   \n",
       "2       Entertainment                     MrBeast      741   United States   \n",
       "3           Education  Cocomelon - Nursery Rhymes      966   United States   \n",
       "4               Shows                   SET India   116536           India   \n",
       "..                ...                         ...      ...             ...   \n",
       "990            Sports               Natan por Aï¿     1200          Brazil   \n",
       "991    People & Blogs    Free Fire India Official     1500           India   \n",
       "992               NaN                 HybridPanda     2452  United Kingdom   \n",
       "993            Gaming                 RobTopGames       39          Sweden   \n",
       "994            Comedy                Make Joke Of       62           India   \n",
       "\n",
       "    Abbreviation   channel_type  ...  subscribers_for_last_30_days  \\\n",
       "0             IN          Music  ...                       2000000   \n",
       "1             US          Games  ...                           NaN   \n",
       "2             US  Entertainment  ...                       8000000   \n",
       "3             US      Education  ...                       1000000   \n",
       "4             IN  Entertainment  ...                       1000000   \n",
       "..           ...            ...  ...                           ...   \n",
       "990           BR  Entertainment  ...                        700000   \n",
       "991           IN          Games  ...                        300000   \n",
       "992           GB          Games  ...                          1000   \n",
       "993           SE          Games  ...                        100000   \n",
       "994           IN         Comedy  ...                        100000   \n",
       "\n",
       "     created_year  created_month  created_date  \\\n",
       "0            2006            Mar            13   \n",
       "1            2006            Mar             5   \n",
       "2            2012            Feb            20   \n",
       "3            2006            Sep             1   \n",
       "4            2006            Sep            20   \n",
       "..            ...            ...           ...   \n",
       "990          2017            Feb            12   \n",
       "991          2018            Sep            14   \n",
       "992          2006            Sep            11   \n",
       "993          2012            May             9   \n",
       "994          2017            Aug             1   \n",
       "\n",
       "     Gross tertiary education enrollment (%)  Population  Unemployment rate  \\\n",
       "0                                         28  1366417754                  5   \n",
       "1                                         88   328239523                 15   \n",
       "2                                         88   328239523                 15   \n",
       "3                                         88   328239523                 15   \n",
       "4                                         28  1366417754                  5   \n",
       "..                                       ...         ...                ...   \n",
       "990                                       51   212559417                 12   \n",
       "991                                       28  1366417754                  5   \n",
       "992                                       60    66834405                  4   \n",
       "993                                       67    10285453                  6   \n",
       "994                                       28  1366417754                  5   \n",
       "\n",
       "     Urban_population  Latitude  Longitude  \n",
       "0           471031528        21         79  \n",
       "1           270663028        37        -96  \n",
       "2           270663028        37        -96  \n",
       "3           270663028        37        -96  \n",
       "4           471031528        21         79  \n",
       "..                ...       ...        ...  \n",
       "990         183241641       -14        -52  \n",
       "991         471031528        21         79  \n",
       "992          55908316        55         -3  \n",
       "993           9021165        60         19  \n",
       "994         471031528        21         79  \n",
       "\n",
       "[995 rows x 28 columns]"
      ]
     },
     "execution_count": 51,
     "metadata": {},
     "output_type": "execute_result"
    }
   ],
   "source": [
    "df\n"
   ]
  },
  {
   "cell_type": "code",
   "execution_count": 52,
   "id": "fa45e61b",
   "metadata": {},
   "outputs": [
    {
     "data": {
      "text/html": [
       "<div>\n",
       "<style scoped>\n",
       "    .dataframe tbody tr th:only-of-type {\n",
       "        vertical-align: middle;\n",
       "    }\n",
       "\n",
       "    .dataframe tbody tr th {\n",
       "        vertical-align: top;\n",
       "    }\n",
       "\n",
       "    .dataframe thead th {\n",
       "        text-align: right;\n",
       "    }\n",
       "</style>\n",
       "<table border=\"1\" class=\"dataframe\">\n",
       "  <thead>\n",
       "    <tr style=\"text-align: right;\">\n",
       "      <th></th>\n",
       "      <th>rank</th>\n",
       "      <th>subscribers</th>\n",
       "      <th>video views</th>\n",
       "      <th>uploads</th>\n",
       "      <th>video_views_rank</th>\n",
       "      <th>country_rank</th>\n",
       "      <th>channel_type_rank</th>\n",
       "      <th>video_views_for_the_last_30_days</th>\n",
       "      <th>lowest_monthly_earnings</th>\n",
       "      <th>highest_monthly_earnings</th>\n",
       "      <th>...</th>\n",
       "      <th>highest_yearly_earnings</th>\n",
       "      <th>subscribers_for_last_30_days</th>\n",
       "      <th>created_year</th>\n",
       "      <th>created_date</th>\n",
       "      <th>Gross tertiary education enrollment (%)</th>\n",
       "      <th>Population</th>\n",
       "      <th>Unemployment rate</th>\n",
       "      <th>Urban_population</th>\n",
       "      <th>Latitude</th>\n",
       "      <th>Longitude</th>\n",
       "    </tr>\n",
       "  </thead>\n",
       "  <tbody>\n",
       "    <tr>\n",
       "      <th>count</th>\n",
       "      <td>995</td>\n",
       "      <td>995</td>\n",
       "      <td>995</td>\n",
       "      <td>995</td>\n",
       "      <td>994</td>\n",
       "      <td>879</td>\n",
       "      <td>962</td>\n",
       "      <td>939</td>\n",
       "      <td>995</td>\n",
       "      <td>995</td>\n",
       "      <td>...</td>\n",
       "      <td>995</td>\n",
       "      <td>658</td>\n",
       "      <td>990</td>\n",
       "      <td>990</td>\n",
       "      <td>872</td>\n",
       "      <td>872</td>\n",
       "      <td>872</td>\n",
       "      <td>872</td>\n",
       "      <td>872</td>\n",
       "      <td>872</td>\n",
       "    </tr>\n",
       "    <tr>\n",
       "      <th>mean</th>\n",
       "      <td>498</td>\n",
       "      <td>22982412</td>\n",
       "      <td>11039537052</td>\n",
       "      <td>9187</td>\n",
       "      <td>554249</td>\n",
       "      <td>386</td>\n",
       "      <td>746</td>\n",
       "      <td>175610285</td>\n",
       "      <td>36886</td>\n",
       "      <td>589808</td>\n",
       "      <td>...</td>\n",
       "      <td>7081814</td>\n",
       "      <td>349079</td>\n",
       "      <td>2013</td>\n",
       "      <td>16</td>\n",
       "      <td>64</td>\n",
       "      <td>430387267</td>\n",
       "      <td>9</td>\n",
       "      <td>224214982</td>\n",
       "      <td>27</td>\n",
       "      <td>-14</td>\n",
       "    </tr>\n",
       "    <tr>\n",
       "      <th>std</th>\n",
       "      <td>287</td>\n",
       "      <td>17526105</td>\n",
       "      <td>14110844377</td>\n",
       "      <td>34151</td>\n",
       "      <td>1362782</td>\n",
       "      <td>1232</td>\n",
       "      <td>1944</td>\n",
       "      <td>416378166</td>\n",
       "      <td>71859</td>\n",
       "      <td>1148622</td>\n",
       "      <td>...</td>\n",
       "      <td>13797038</td>\n",
       "      <td>614355</td>\n",
       "      <td>5</td>\n",
       "      <td>9</td>\n",
       "      <td>26</td>\n",
       "      <td>472794722</td>\n",
       "      <td>5</td>\n",
       "      <td>154687363</td>\n",
       "      <td>21</td>\n",
       "      <td>85</td>\n",
       "    </tr>\n",
       "    <tr>\n",
       "      <th>min</th>\n",
       "      <td>1</td>\n",
       "      <td>12300000</td>\n",
       "      <td>0</td>\n",
       "      <td>0</td>\n",
       "      <td>1</td>\n",
       "      <td>1</td>\n",
       "      <td>1</td>\n",
       "      <td>1</td>\n",
       "      <td>0</td>\n",
       "      <td>0</td>\n",
       "      <td>...</td>\n",
       "      <td>0</td>\n",
       "      <td>1</td>\n",
       "      <td>1970</td>\n",
       "      <td>1</td>\n",
       "      <td>8</td>\n",
       "      <td>202506</td>\n",
       "      <td>1</td>\n",
       "      <td>35588</td>\n",
       "      <td>-38</td>\n",
       "      <td>-172</td>\n",
       "    </tr>\n",
       "    <tr>\n",
       "      <th>25%</th>\n",
       "      <td>250</td>\n",
       "      <td>14500000</td>\n",
       "      <td>4288145410</td>\n",
       "      <td>194</td>\n",
       "      <td>323</td>\n",
       "      <td>11</td>\n",
       "      <td>27</td>\n",
       "      <td>20137500</td>\n",
       "      <td>2700</td>\n",
       "      <td>43500</td>\n",
       "      <td>...</td>\n",
       "      <td>521750</td>\n",
       "      <td>100000</td>\n",
       "      <td>2009</td>\n",
       "      <td>8</td>\n",
       "      <td>36</td>\n",
       "      <td>83355411</td>\n",
       "      <td>5</td>\n",
       "      <td>55908316</td>\n",
       "      <td>21</td>\n",
       "      <td>-96</td>\n",
       "    </tr>\n",
       "    <tr>\n",
       "      <th>50%</th>\n",
       "      <td>498</td>\n",
       "      <td>17700000</td>\n",
       "      <td>7760819588</td>\n",
       "      <td>729</td>\n",
       "      <td>916</td>\n",
       "      <td>51</td>\n",
       "      <td>66</td>\n",
       "      <td>64085000</td>\n",
       "      <td>13300</td>\n",
       "      <td>212700</td>\n",
       "      <td>...</td>\n",
       "      <td>2600000</td>\n",
       "      <td>200000</td>\n",
       "      <td>2013</td>\n",
       "      <td>16</td>\n",
       "      <td>68</td>\n",
       "      <td>328239523</td>\n",
       "      <td>9</td>\n",
       "      <td>270663028</td>\n",
       "      <td>37</td>\n",
       "      <td>-52</td>\n",
       "    </tr>\n",
       "    <tr>\n",
       "      <th>75%</th>\n",
       "      <td>746</td>\n",
       "      <td>24600000</td>\n",
       "      <td>13554701853</td>\n",
       "      <td>2668</td>\n",
       "      <td>3584</td>\n",
       "      <td>123</td>\n",
       "      <td>140</td>\n",
       "      <td>168826500</td>\n",
       "      <td>37900</td>\n",
       "      <td>606800</td>\n",
       "      <td>...</td>\n",
       "      <td>7300000</td>\n",
       "      <td>400000</td>\n",
       "      <td>2016</td>\n",
       "      <td>23</td>\n",
       "      <td>88</td>\n",
       "      <td>328239523</td>\n",
       "      <td>15</td>\n",
       "      <td>270663028</td>\n",
       "      <td>37</td>\n",
       "      <td>79</td>\n",
       "    </tr>\n",
       "    <tr>\n",
       "      <th>max</th>\n",
       "      <td>995</td>\n",
       "      <td>245000000</td>\n",
       "      <td>228000000000</td>\n",
       "      <td>301308</td>\n",
       "      <td>4057944</td>\n",
       "      <td>7741</td>\n",
       "      <td>7741</td>\n",
       "      <td>6589000000</td>\n",
       "      <td>850900</td>\n",
       "      <td>13600000</td>\n",
       "      <td>...</td>\n",
       "      <td>163400000</td>\n",
       "      <td>8000000</td>\n",
       "      <td>2022</td>\n",
       "      <td>31</td>\n",
       "      <td>113</td>\n",
       "      <td>1397715000</td>\n",
       "      <td>15</td>\n",
       "      <td>842933962</td>\n",
       "      <td>62</td>\n",
       "      <td>138</td>\n",
       "    </tr>\n",
       "  </tbody>\n",
       "</table>\n",
       "<p>8 rows × 21 columns</p>\n",
       "</div>"
      ],
      "text/plain": [
       "       rank  subscribers  video views  uploads  video_views_rank  \\\n",
       "count   995          995          995      995               994   \n",
       "mean    498     22982412  11039537052     9187            554249   \n",
       "std     287     17526105  14110844377    34151           1362782   \n",
       "min       1     12300000            0        0                 1   \n",
       "25%     250     14500000   4288145410      194               323   \n",
       "50%     498     17700000   7760819588      729               916   \n",
       "75%     746     24600000  13554701853     2668              3584   \n",
       "max     995    245000000 228000000000   301308           4057944   \n",
       "\n",
       "       country_rank  channel_type_rank  video_views_for_the_last_30_days  \\\n",
       "count           879                962                               939   \n",
       "mean            386                746                         175610285   \n",
       "std            1232               1944                         416378166   \n",
       "min               1                  1                                 1   \n",
       "25%              11                 27                          20137500   \n",
       "50%              51                 66                          64085000   \n",
       "75%             123                140                         168826500   \n",
       "max            7741               7741                        6589000000   \n",
       "\n",
       "       lowest_monthly_earnings  highest_monthly_earnings  ...  \\\n",
       "count                      995                       995  ...   \n",
       "mean                     36886                    589808  ...   \n",
       "std                      71859                   1148622  ...   \n",
       "min                          0                         0  ...   \n",
       "25%                       2700                     43500  ...   \n",
       "50%                      13300                    212700  ...   \n",
       "75%                      37900                    606800  ...   \n",
       "max                     850900                  13600000  ...   \n",
       "\n",
       "       highest_yearly_earnings  subscribers_for_last_30_days  created_year  \\\n",
       "count                      995                           658           990   \n",
       "mean                   7081814                        349079          2013   \n",
       "std                   13797038                        614355             5   \n",
       "min                          0                             1          1970   \n",
       "25%                     521750                        100000          2009   \n",
       "50%                    2600000                        200000          2013   \n",
       "75%                    7300000                        400000          2016   \n",
       "max                  163400000                       8000000          2022   \n",
       "\n",
       "       created_date  Gross tertiary education enrollment (%)  Population  \\\n",
       "count           990                                      872         872   \n",
       "mean             16                                       64   430387267   \n",
       "std               9                                       26   472794722   \n",
       "min               1                                        8      202506   \n",
       "25%               8                                       36    83355411   \n",
       "50%              16                                       68   328239523   \n",
       "75%              23                                       88   328239523   \n",
       "max              31                                      113  1397715000   \n",
       "\n",
       "       Unemployment rate  Urban_population  Latitude  Longitude  \n",
       "count                872               872       872        872  \n",
       "mean                   9         224214982        27        -14  \n",
       "std                    5         154687363        21         85  \n",
       "min                    1             35588       -38       -172  \n",
       "25%                    5          55908316        21        -96  \n",
       "50%                    9         270663028        37        -52  \n",
       "75%                   15         270663028        37         79  \n",
       "max                   15         842933962        62        138  \n",
       "\n",
       "[8 rows x 21 columns]"
      ]
     },
     "execution_count": 52,
     "metadata": {},
     "output_type": "execute_result"
    }
   ],
   "source": [
    "df.describe()"
   ]
  },
  {
   "cell_type": "code",
   "execution_count": 53,
   "id": "70ee3aba",
   "metadata": {},
   "outputs": [
    {
     "name": "stdout",
     "output_type": "stream",
     "text": [
      "<class 'pandas.core.frame.DataFrame'>\n",
      "RangeIndex: 995 entries, 0 to 994\n",
      "Data columns (total 28 columns):\n",
      " #   Column                                   Non-Null Count  Dtype  \n",
      "---  ------                                   --------------  -----  \n",
      " 0   rank                                     995 non-null    int64  \n",
      " 1   Youtuber                                 995 non-null    object \n",
      " 2   subscribers                              995 non-null    int64  \n",
      " 3   video views                              995 non-null    float64\n",
      " 4   category                                 949 non-null    object \n",
      " 5   Title                                    995 non-null    object \n",
      " 6   uploads                                  995 non-null    int64  \n",
      " 7   Country                                  873 non-null    object \n",
      " 8   Abbreviation                             873 non-null    object \n",
      " 9   channel_type                             965 non-null    object \n",
      " 10  video_views_rank                         994 non-null    float64\n",
      " 11  country_rank                             879 non-null    float64\n",
      " 12  channel_type_rank                        962 non-null    float64\n",
      " 13  video_views_for_the_last_30_days         939 non-null    float64\n",
      " 14  lowest_monthly_earnings                  995 non-null    float64\n",
      " 15  highest_monthly_earnings                 995 non-null    float64\n",
      " 16  lowest_yearly_earnings                   995 non-null    float64\n",
      " 17  highest_yearly_earnings                  995 non-null    float64\n",
      " 18  subscribers_for_last_30_days             658 non-null    float64\n",
      " 19  created_year                             990 non-null    float64\n",
      " 20  created_month                            990 non-null    object \n",
      " 21  created_date                             990 non-null    float64\n",
      " 22  Gross tertiary education enrollment (%)  872 non-null    float64\n",
      " 23  Population                               872 non-null    float64\n",
      " 24  Unemployment rate                        872 non-null    float64\n",
      " 25  Urban_population                         872 non-null    float64\n",
      " 26  Latitude                                 872 non-null    float64\n",
      " 27  Longitude                                872 non-null    float64\n",
      "dtypes: float64(18), int64(3), object(7)\n",
      "memory usage: 217.8+ KB\n"
     ]
    }
   ],
   "source": [
    "df.info()"
   ]
  },
  {
   "cell_type": "markdown",
   "id": "d3d90f13",
   "metadata": {},
   "source": [
    "### Check for NaN Values"
   ]
  },
  {
   "cell_type": "code",
   "execution_count": 54,
   "id": "99527f50",
   "metadata": {},
   "outputs": [
    {
     "data": {
      "text/plain": [
       "rank                                         0\n",
       "Youtuber                                     0\n",
       "subscribers                                  0\n",
       "video views                                  0\n",
       "category                                    46\n",
       "Title                                        0\n",
       "uploads                                      0\n",
       "Country                                    122\n",
       "Abbreviation                               122\n",
       "channel_type                                30\n",
       "video_views_rank                             1\n",
       "country_rank                               116\n",
       "channel_type_rank                           33\n",
       "video_views_for_the_last_30_days            56\n",
       "lowest_monthly_earnings                      0\n",
       "highest_monthly_earnings                     0\n",
       "lowest_yearly_earnings                       0\n",
       "highest_yearly_earnings                      0\n",
       "subscribers_for_last_30_days               337\n",
       "created_year                                 5\n",
       "created_month                                5\n",
       "created_date                                 5\n",
       "Gross tertiary education enrollment (%)    123\n",
       "Population                                 123\n",
       "Unemployment rate                          123\n",
       "Urban_population                           123\n",
       "Latitude                                   123\n",
       "Longitude                                  123\n",
       "dtype: int64"
      ]
     },
     "execution_count": 54,
     "metadata": {},
     "output_type": "execute_result"
    }
   ],
   "source": [
    "df.isna().sum()"
   ]
  },
  {
   "cell_type": "markdown",
   "id": "66b1c45e",
   "metadata": {},
   "source": [
    "There are a lot of missing values that we will not drop due to the high number of NaN values. This can affect our data proccessing and visualization. "
   ]
  },
  {
   "cell_type": "markdown",
   "id": "2d275642",
   "metadata": {},
   "source": [
    "### Check for Duplicates"
   ]
  },
  {
   "cell_type": "code",
   "execution_count": 55,
   "id": "e355fc3f",
   "metadata": {},
   "outputs": [
    {
     "data": {
      "text/plain": [
       "0"
      ]
     },
     "execution_count": 55,
     "metadata": {},
     "output_type": "execute_result"
    }
   ],
   "source": [
    "df.duplicated().sum()"
   ]
  },
  {
   "cell_type": "markdown",
   "id": "1b2fd06f",
   "metadata": {},
   "source": [
    "### Change Long Scientific Numbers Into Digits Only "
   ]
  },
  {
   "cell_type": "code",
   "execution_count": 56,
   "id": "65364001",
   "metadata": {},
   "outputs": [],
   "source": [
    "pd.set_option('display.float_format','{:.2f}'.format)"
   ]
  },
  {
   "cell_type": "code",
   "execution_count": 57,
   "id": "ff2c0be2",
   "metadata": {
    "scrolled": true
   },
   "outputs": [
    {
     "data": {
      "text/plain": [
       "Index(['rank', 'Youtuber', 'subscribers', 'video views', 'category', 'Title',\n",
       "       'uploads', 'Country', 'Abbreviation', 'channel_type',\n",
       "       'video_views_rank', 'country_rank', 'channel_type_rank',\n",
       "       'video_views_for_the_last_30_days', 'lowest_monthly_earnings',\n",
       "       'highest_monthly_earnings', 'lowest_yearly_earnings',\n",
       "       'highest_yearly_earnings', 'subscribers_for_last_30_days',\n",
       "       'created_year', 'created_month', 'created_date',\n",
       "       'Gross tertiary education enrollment (%)', 'Population',\n",
       "       'Unemployment rate', 'Urban_population', 'Latitude', 'Longitude'],\n",
       "      dtype='object')"
      ]
     },
     "execution_count": 57,
     "metadata": {},
     "output_type": "execute_result"
    }
   ],
   "source": [
    "df.columns"
   ]
  },
  {
   "cell_type": "markdown",
   "id": "6456feb5",
   "metadata": {},
   "source": [
    "## Data Cleaning "
   ]
  },
  {
   "cell_type": "markdown",
   "id": "afdb6658",
   "metadata": {},
   "source": [
    "There seem to be a video that was created in 1970. this is clearly an outlier and we will drop this data from our database. "
   ]
  },
  {
   "cell_type": "code",
   "execution_count": 58,
   "id": "608bbcd2",
   "metadata": {},
   "outputs": [],
   "source": [
    "df = df.drop(df[df['created_year'] < 2000].index)"
   ]
  },
  {
   "cell_type": "markdown",
   "id": "d8eac2f7",
   "metadata": {},
   "source": [
    "## Data Visualization (Groupbys)"
   ]
  },
  {
   "cell_type": "markdown",
   "id": "4307e14a",
   "metadata": {},
   "source": [
    "### Average Subscribers by Video Category"
   ]
  },
  {
   "cell_type": "code",
   "execution_count": 59,
   "id": "69e68f07",
   "metadata": {},
   "outputs": [
    {
     "data": {
      "text/plain": [
       "category\n",
       "Shows                   41615384.62\n",
       "Trailers                39000000.00\n",
       "Film & Animation        28584782.61\n",
       "Nonprofits & Activism   27750000.00\n",
       "Sports                  27109090.91\n",
       "Education               26542222.22\n",
       "Music                   25717821.78\n",
       "Movies                  25650000.00\n",
       "Entertainment           21403319.50\n",
       "People & Blogs          21056060.61\n",
       "Gaming                  20852127.66\n",
       "Comedy                  20123188.41\n",
       "News & Politics         20004000.00\n",
       "Howto & Style           19390000.00\n",
       "Science & Technology    18617647.06\n",
       "Pets & Animals          18100000.00\n",
       "Autos & Vehicles        17850000.00\n",
       "Travel & Events         12500000.00\n",
       "Name: subscribers, dtype: float64"
      ]
     },
     "execution_count": 59,
     "metadata": {},
     "output_type": "execute_result"
    }
   ],
   "source": [
    "category_subscriber_means = df.groupby('category')['subscribers'].mean().sort_values(ascending = False)\n",
    "category_subscriber_means"
   ]
  },
  {
   "cell_type": "code",
   "execution_count": 111,
   "id": "b0ba07d9",
   "metadata": {},
   "outputs": [
    {
     "data": {
      "image/png": "[encoded data removed]",
      "text/plain": [
       "<Figure size 1440x720 with 1 Axes>"
      ]
     },
     "metadata": {
      "needs_background": "light"
     },
     "output_type": "display_data"
    }
   ],
   "source": [
    "plt.figure(figsize = (20, 10))\n",
    "p = sns.barplot( x= category_subscriber_means.index, y= category_subscriber_means.sort_values(ascending = False))\n",
    "\n",
    "for b in p.patches:\n",
    "    p.annotate(str(round(b.get_height() / 1e6, 1)) + 'M',\n",
    "    (b.get_x() + b.get_width() / 2., b.get_height() + 1.2e6),\n",
    "    ha='center', va='top', rotation='45',\n",
    "    xytext=(0, 12),  # Adjusted to move the labels above the bars\n",
    "    textcoords='offset points')\n",
    "\n",
    "\n",
    "plt.xlabel('Category' , fontsize = 15)\n",
    "\n",
    "plt.xticks(rotation=45, horizontalalignment='right')\n",
    "\n",
    "\n",
    "plt.ylabel('Mean Subscribers', fontsize = 15)\n",
    "\n",
    "\n",
    "\n",
    "plt.title('Average Subscribers by Video Category', fontsize = 25)\n",
    "\n",
    "plt.show()"
   ]
  },
  {
   "cell_type": "markdown",
   "id": "8281833e",
   "metadata": {},
   "source": [
    "### Counts of Channel Types"
   ]
  },
  {
   "cell_type": "code",
   "execution_count": 61,
   "id": "20c6cb6f",
   "metadata": {},
   "outputs": [
    {
     "data": {
      "text/plain": [
       "Entertainment    303\n",
       "Music            216\n",
       "People           101\n",
       "Games             98\n",
       "Comedy            51\n",
       "Education         49\n",
       "Film              42\n",
       "Howto             36\n",
       "News              30\n",
       "Tech              17\n",
       "Sports            13\n",
       "Autos              3\n",
       "Animals            3\n",
       "Nonprofit          2\n",
       "Name: channel_type, dtype: int64"
      ]
     },
     "execution_count": 61,
     "metadata": {},
     "output_type": "execute_result"
    }
   ],
   "source": [
    "channel_type_counts = df['channel_type'].value_counts()\n",
    "channel_type_counts"
   ]
  },
  {
   "cell_type": "code",
   "execution_count": 62,
   "id": "577ee622",
   "metadata": {
    "scrolled": false
   },
   "outputs": [
    {
     "data": {
      "image/png": "[encoded data removed]",
      "text/plain": [
       "<Figure size 1440x720 with 1 Axes>"
      ]
     },
     "metadata": {},
     "output_type": "display_data"
    }
   ],
   "source": [
    "plt.figure(figsize = (20, 10))\n",
    "\n",
    "\n",
    "ax = channel_type_counts.head(10).plot(kind='pie', autopct='%1.1f%%')\n",
    "\n",
    "\n",
    "plt.title('Top 10 Channel Type Distribution')\n",
    "plt.ylabel('')\n",
    "\n",
    "plt.show()"
   ]
  },
  {
   "cell_type": "markdown",
   "id": "30119da9",
   "metadata": {},
   "source": [
    "### Scatter Plot Between Subscribers and Views"
   ]
  },
  {
   "cell_type": "code",
   "execution_count": 63,
   "id": "afab2ea7",
   "metadata": {},
   "outputs": [
    {
     "data": {
      "image/png": "[encoded data removed]",
      "text/plain": [
       "<Figure size 1440x720 with 1 Axes>"
      ]
     },
     "metadata": {
      "needs_background": "light"
     },
     "output_type": "display_data"
    }
   ],
   "source": [
    "plt.figure(figsize = (20, 10))\n",
    "\n",
    "plt.scatter(df['subscribers'],df['video views'], color='purple')\n",
    "plt.title('Scatter Plot of Subscribers and Video Views', fontsize = 25)\n",
    "plt.xlabel('Subscribers', fontsize = 15)\n",
    "plt.ylabel('Video Views', fontsize = 15)\n",
    "plt.show()"
   ]
  },
  {
   "cell_type": "markdown",
   "id": "a050b754",
   "metadata": {},
   "source": [
    "### Total Subscribers by Country"
   ]
  },
  {
   "cell_type": "code",
   "execution_count": 64,
   "id": "32b9b84c",
   "metadata": {},
   "outputs": [
    {
     "data": {
      "text/plain": [
       "Country\n",
       "United States           7293200000\n",
       "India                   4310600000\n",
       "Brazil                  1221800000\n",
       "United Kingdom           917400000\n",
       "Mexico                   626900000\n",
       "Indonesia                534100000\n",
       "South Korea              481700000\n",
       "Russia                   407200000\n",
       "Thailand                 386500000\n",
       "Spain                    385100000\n",
       "Canada                   363900000\n",
       "Argentina                328500000\n",
       "Colombia                 264500000\n",
       "Philippines              240100000\n",
       "Japan                    189100000\n",
       "Saudi Arabia             179100000\n",
       "Australia                172000000\n",
       "Pakistan                 155400000\n",
       "United Arab Emirates     148200000\n",
       "Ukraine                  125600000\n",
       "Germany                  116400000\n",
       "Turkey                    91600000\n",
       "Chile                     87200000\n",
       "France                    83900000\n",
       "Jordan                    67000000\n",
       "Sweden                    63000000\n",
       "Singapore                 59700000\n",
       "Netherlands               58100000\n",
       "Vietnam                   47800000\n",
       "Cuba                      46300000\n",
       "El Salvador               46100000\n",
       "Barbados                  41900000\n",
       "Italy                     39400000\n",
       "Venezuela                 31200000\n",
       "Egypt                     30600000\n",
       "Kuwait                    30500000\n",
       "Iraq                      30200000\n",
       "Ecuador                   27700000\n",
       "Afghanistan               20400000\n",
       "Latvia                    20200000\n",
       "Switzerland               19400000\n",
       "Malaysia                  17700000\n",
       "China                     17600000\n",
       "Andorra                   15100000\n",
       "Morocco                   14500000\n",
       "Peru                      14400000\n",
       "Bangladesh                13900000\n",
       "Finland                   13200000\n",
       "Samoa                     13100000\n",
       "Name: subscribers, dtype: int64"
      ]
     },
     "execution_count": 64,
     "metadata": {},
     "output_type": "execute_result"
    }
   ],
   "source": [
    "subscribers_sum_by_country = df.groupby('Country')['subscribers'].sum().sort_values(ascending = False)\n",
    "subscribers_sum_by_country"
   ]
  },
  {
   "cell_type": "code",
   "execution_count": 68,
   "id": "a7b1fc00",
   "metadata": {
    "scrolled": false
   },
   "outputs": [
    {
     "data": {
      "image/png": "[encoded data removed]",
      "text/plain": [
       "<Figure size 1440x720 with 1 Axes>"
      ]
     },
     "metadata": {
      "needs_background": "light"
     },
     "output_type": "display_data"
    }
   ],
   "source": [
    "plt.figure(figsize = (20, 10))\n",
    "p = subscribers_sum_by_country.head(10).plot(kind = 'bar') \n",
    "\n",
    "\n",
    "plt.xlabel('Country', fontsize = 15)\n",
    "plt.xticks(rotation=45, horizontalalignment='right')\n",
    "plt.ylabel('Total Subscribers', fontsize = 15)\n",
    "plt.title('Top 10 Total Subscribers by Country', fontsize = 25)\n",
    "\n",
    "\n",
    "for b in p.patches:\n",
    "    p.annotate(str(round(b.get_height() / 1e6, 1)) + 'M',\n",
    "    (b.get_x() + b.get_width() / 2., b.get_height() + 1.2e6),\n",
    "    ha='center', va='bottom', rotation='45',\n",
    "    xytext=(0, 12),  # Adjusted to move the labels above the bars\n",
    "    textcoords='offset points')\n",
    "\n",
    "\n",
    "    \n",
    "plt.show()"
   ]
  },
  {
   "cell_type": "code",
   "execution_count": 69,
   "id": "d3a9b6ce",
   "metadata": {},
   "outputs": [],
   "source": [
    "### Change 2 Decimal Digits to 0 "
   ]
  },
  {
   "cell_type": "code",
   "execution_count": 70,
   "id": "ab8d4c68",
   "metadata": {},
   "outputs": [],
   "source": [
    "pd.set_option('display.float_format','{:.0f}'.format)"
   ]
  },
  {
   "cell_type": "markdown",
   "id": "e20ce8e8",
   "metadata": {},
   "source": [
    "###  The Year Created  by Average Subscribers"
   ]
  },
  {
   "cell_type": "code",
   "execution_count": 71,
   "id": "81eff6e1",
   "metadata": {},
   "outputs": [
    {
     "data": {
      "text/plain": [
       "created_year\n",
       "2006   31884615\n",
       "2005   25829167\n",
       "2007   24902041\n",
       "2013   24527632\n",
       "2012   24038235\n",
       "2008   23652174\n",
       "2009   23105769\n",
       "2016   23101299\n",
       "2018   23060870\n",
       "2011   21800000\n",
       "2020   21350000\n",
       "2015   21247945\n",
       "2010   20670833\n",
       "2014   20618367\n",
       "2017   18666176\n",
       "2019   18639394\n",
       "2021   18573913\n",
       "2022   13640000\n",
       "Name: subscribers, dtype: float64"
      ]
     },
     "execution_count": 71,
     "metadata": {},
     "output_type": "execute_result"
    }
   ],
   "source": [
    "Year_average_subscribers = df.groupby('created_year')['subscribers'].mean().sort_values(ascending = False)\n",
    "Year_average_subscribers"
   ]
  },
  {
   "cell_type": "code",
   "execution_count": 72,
   "id": "8cdc5ff7",
   "metadata": {},
   "outputs": [
    {
     "data": {
      "image/png": "[encoded data removed]",
      "text/plain": [
       "<Figure size 1440x720 with 1 Axes>"
      ]
     },
     "metadata": {
      "needs_background": "light"
     },
     "output_type": "display_data"
    }
   ],
   "source": [
    "plt.figure(figsize = (20, 10))\n",
    "p = Year_average_subscribers.plot(kind = 'bar') \n",
    "\n",
    "\n",
    "plt.xlabel('Year Created', fontsize = 15)\n",
    "plt.xticks(rotation=45, horizontalalignment='right')\n",
    "plt.ylabel('Total Subscribers', fontsize = 15)\n",
    "plt.title('Average Subscribers by Year of Creation', fontsize = 25)\n",
    "\n",
    "\n",
    "for b in p.patches:\n",
    "    p.annotate(str(round(b.get_height() / 1e6, 1)) + 'M',\n",
    "    (b.get_x() + b.get_width() / 2., b.get_height() + 1.2e6),\n",
    "    ha='center', va='top', rotation='45',\n",
    "    xytext=(0, 12),  # Adjusted to move the labels above the bars\n",
    "    textcoords='offset points')\n",
    "\n",
    "\n",
    "    \n",
    "plt.show()"
   ]
  },
  {
   "cell_type": "markdown",
   "id": "afc7aeb3",
   "metadata": {},
   "source": [
    "### Average Video View Ranks by Channel Type"
   ]
  },
  {
   "cell_type": "code",
   "execution_count": 73,
   "id": "532d5ebd",
   "metadata": {},
   "outputs": [
    {
     "data": {
      "text/plain": [
       "channel_type\n",
       "Autos           2508626\n",
       "People          1209192\n",
       "Games            871194\n",
       "Sports           608567\n",
       "Film             491197\n",
       "Comedy           376547\n",
       "Music            365329\n",
       "News             337491\n",
       "Tech             242110\n",
       "Entertainment    238259\n",
       "Education         91037\n",
       "Howto              3280\n",
       "Nonprofit          1538\n",
       "Animals             550\n",
       "Name: video_views_rank, dtype: float64"
      ]
     },
     "execution_count": 73,
     "metadata": {},
     "output_type": "execute_result"
    }
   ],
   "source": [
    "video_views_rank_by_channel_type_mean = df.groupby('channel_type')['video_views_rank'].mean().sort_values(ascending = False)\n",
    "video_views_rank_by_channel_type_mean"
   ]
  },
  {
   "cell_type": "code",
   "execution_count": 74,
   "id": "da32ccd7",
   "metadata": {},
   "outputs": [
    {
     "data": {
      "image/png": "[encoded data removed]",
      "text/plain": [
       "<Figure size 1440x720 with 1 Axes>"
      ]
     },
     "metadata": {
      "needs_background": "light"
     },
     "output_type": "display_data"
    }
   ],
   "source": [
    "plt.figure(figsize = (20, 10))\n",
    "p = video_views_rank_by_channel_type_mean.plot(kind = 'bar') \n",
    "\n",
    "\n",
    "plt.xlabel('Channel Type', fontsize = 15)\n",
    "plt.xticks(rotation=45, horizontalalignment='right')\n",
    "plt.ylabel('Average Subscribers', fontsize = 15)\n",
    "plt.title('Mean Video Views Rank by Channel Type', fontsize = 25)\n",
    "\n",
    "\n",
    "for b in p.patches:\n",
    "    p.annotate(str(round(b.get_height() / 1e3, 1)) + 'M',\n",
    "    (b.get_x() + b.get_width() / 2., b.get_height() + 1.2e6),\n",
    "    ha='center', va='top', rotation='0',\n",
    "    xytext=(0, -230),  # Adjusted to move the labels above the bars\n",
    "    textcoords='offset points')\n",
    "\n",
    "\n",
    "    \n",
    "plt.show()"
   ]
  },
  {
   "cell_type": "markdown",
   "id": "b182e5fa",
   "metadata": {},
   "source": [
    "### Maximum Subcribers by Country For The Past 30 Days (World Map)"
   ]
  },
  {
   "cell_type": "code",
   "execution_count": 75,
   "id": "a3f49bdb",
   "metadata": {},
   "outputs": [
    {
     "data": {
      "text/plain": [
       "Index(['rank', 'Youtuber', 'subscribers', 'video views', 'category', 'Title',\n",
       "       'uploads', 'Country', 'Abbreviation', 'channel_type',\n",
       "       'video_views_rank', 'country_rank', 'channel_type_rank',\n",
       "       'video_views_for_the_last_30_days', 'lowest_monthly_earnings',\n",
       "       'highest_monthly_earnings', 'lowest_yearly_earnings',\n",
       "       'highest_yearly_earnings', 'subscribers_for_last_30_days',\n",
       "       'created_year', 'created_month', 'created_date',\n",
       "       'Gross tertiary education enrollment (%)', 'Population',\n",
       "       'Unemployment rate', 'Urban_population', 'Latitude', 'Longitude'],\n",
       "      dtype='object')"
      ]
     },
     "execution_count": 75,
     "metadata": {},
     "output_type": "execute_result"
    }
   ],
   "source": [
    "df.columns"
   ]
  },
  {
   "cell_type": "code",
   "execution_count": 76,
   "id": "97c09d38",
   "metadata": {},
   "outputs": [
    {
     "data": {
      "text/html": [
       "<div>\n",
       "<style scoped>\n",
       "    .dataframe tbody tr th:only-of-type {\n",
       "        vertical-align: middle;\n",
       "    }\n",
       "\n",
       "    .dataframe tbody tr th {\n",
       "        vertical-align: top;\n",
       "    }\n",
       "\n",
       "    .dataframe thead th {\n",
       "        text-align: right;\n",
       "    }\n",
       "</style>\n",
       "<table border=\"1\" class=\"dataframe\">\n",
       "  <thead>\n",
       "    <tr style=\"text-align: right;\">\n",
       "      <th></th>\n",
       "      <th>Latitude</th>\n",
       "      <th>Longitude</th>\n",
       "      <th>Country</th>\n",
       "      <th>channel_type</th>\n",
       "      <th>subscribers_for_last_30_days</th>\n",
       "    </tr>\n",
       "  </thead>\n",
       "  <tbody>\n",
       "    <tr>\n",
       "      <th>0</th>\n",
       "      <td>-38</td>\n",
       "      <td>-64</td>\n",
       "      <td>Argentina</td>\n",
       "      <td>Comedy</td>\n",
       "      <td>700000</td>\n",
       "    </tr>\n",
       "    <tr>\n",
       "      <th>1</th>\n",
       "      <td>-38</td>\n",
       "      <td>-64</td>\n",
       "      <td>Argentina</td>\n",
       "      <td>Education</td>\n",
       "      <td>100000</td>\n",
       "    </tr>\n",
       "    <tr>\n",
       "      <th>2</th>\n",
       "      <td>-38</td>\n",
       "      <td>-64</td>\n",
       "      <td>Argentina</td>\n",
       "      <td>Entertainment</td>\n",
       "      <td>600000</td>\n",
       "    </tr>\n",
       "    <tr>\n",
       "      <th>3</th>\n",
       "      <td>-38</td>\n",
       "      <td>-64</td>\n",
       "      <td>Argentina</td>\n",
       "      <td>Games</td>\n",
       "      <td>1900000</td>\n",
       "    </tr>\n",
       "    <tr>\n",
       "      <th>4</th>\n",
       "      <td>-38</td>\n",
       "      <td>-64</td>\n",
       "      <td>Argentina</td>\n",
       "      <td>Music</td>\n",
       "      <td>600000</td>\n",
       "    </tr>\n",
       "    <tr>\n",
       "      <th>...</th>\n",
       "      <td>...</td>\n",
       "      <td>...</td>\n",
       "      <td>...</td>\n",
       "      <td>...</td>\n",
       "      <td>...</td>\n",
       "    </tr>\n",
       "    <tr>\n",
       "      <th>165</th>\n",
       "      <td>62</td>\n",
       "      <td>105</td>\n",
       "      <td>Russia</td>\n",
       "      <td>Film</td>\n",
       "      <td>700000</td>\n",
       "    </tr>\n",
       "    <tr>\n",
       "      <th>166</th>\n",
       "      <td>62</td>\n",
       "      <td>105</td>\n",
       "      <td>Russia</td>\n",
       "      <td>Games</td>\n",
       "      <td>200000</td>\n",
       "    </tr>\n",
       "    <tr>\n",
       "      <th>167</th>\n",
       "      <td>62</td>\n",
       "      <td>105</td>\n",
       "      <td>Russia</td>\n",
       "      <td>News</td>\n",
       "      <td>NaN</td>\n",
       "    </tr>\n",
       "    <tr>\n",
       "      <th>168</th>\n",
       "      <td>62</td>\n",
       "      <td>105</td>\n",
       "      <td>Russia</td>\n",
       "      <td>People</td>\n",
       "      <td>1600000</td>\n",
       "    </tr>\n",
       "    <tr>\n",
       "      <th>169</th>\n",
       "      <td>62</td>\n",
       "      <td>26</td>\n",
       "      <td>Finland</td>\n",
       "      <td>Games</td>\n",
       "      <td>NaN</td>\n",
       "    </tr>\n",
       "  </tbody>\n",
       "</table>\n",
       "<p>170 rows × 5 columns</p>\n",
       "</div>"
      ],
      "text/plain": [
       "     Latitude  Longitude    Country   channel_type  \\\n",
       "0         -38        -64  Argentina         Comedy   \n",
       "1         -38        -64  Argentina      Education   \n",
       "2         -38        -64  Argentina  Entertainment   \n",
       "3         -38        -64  Argentina          Games   \n",
       "4         -38        -64  Argentina          Music   \n",
       "..        ...        ...        ...            ...   \n",
       "165        62        105     Russia           Film   \n",
       "166        62        105     Russia          Games   \n",
       "167        62        105     Russia           News   \n",
       "168        62        105     Russia         People   \n",
       "169        62         26    Finland          Games   \n",
       "\n",
       "     subscribers_for_last_30_days  \n",
       "0                          700000  \n",
       "1                          100000  \n",
       "2                          600000  \n",
       "3                         1900000  \n",
       "4                          600000  \n",
       "..                            ...  \n",
       "165                        700000  \n",
       "166                        200000  \n",
       "167                           NaN  \n",
       "168                       1600000  \n",
       "169                           NaN  \n",
       "\n",
       "[170 rows x 5 columns]"
      ]
     },
     "execution_count": 76,
     "metadata": {},
     "output_type": "execute_result"
    }
   ],
   "source": [
    "max_subscribers_by_country_past_30_days = df.groupby(['Latitude','Longitude','Country', 'channel_type'])['subscribers_for_last_30_days'].max()\n",
    "max_subscribers_by_country_past_30_days.dropna()\n",
    "\n",
    "df1 = pd.DataFrame(max_subscribers_by_country_past_30_days)\n",
    "\n",
    "# Create a DataFrame from the maximum subscribers data\n",
    "df1 = pd.DataFrame(max_subscribers_by_country_past_30_days).reset_index()\n",
    "\n",
    "# Display the table\n",
    "df1.dropna()\n",
    "df1"
   ]
  },
  {
   "cell_type": "code",
   "execution_count": 77,
   "id": "a5669d97",
   "metadata": {},
   "outputs": [
    {
     "data": {
      "application/vnd.plotly.v1+json": {
       "config": {
        "plotlyServerURL": "https://plot.ly"
       },
       "data": [
        {
         "customdata": [
          [
           700000
          ],
          [
           1100000
          ],
          [
           100000
          ],
          [
           null
          ],
          [
           100
          ],
          [
           null
          ],
          [
           700000
          ],
          [
           100000
          ],
          [
           null
          ],
          [
           900000
          ],
          [
           1900000
          ],
          [
           null
          ],
          [
           null
          ],
          [
           800000
          ],
          [
           100000
          ],
          [
           null
          ],
          [
           1200000
          ]
         ],
         "geo": "geo",
         "hovertemplate": "<b>%{hovertext}</b><br><br>channel_type=Comedy<br>Latitude=%{lat}<br>Longitude=%{lon}<br>subscribers_for_last_30_days=%{customdata[0]}<extra></extra>",
         "hovertext": [
          "Argentina",
          "Brazil",
          "Indonesia",
          "Colombia",
          "Venezuela",
          "Vietnam",
          "India",
          "Mexico",
          "Iraq",
          "Japan",
          "United States",
          "Spain",
          "France",
          "Germany",
          "United Kingdom",
          "Canada",
          "Latvia"
         ],
         "lat": [
          -38.416097,
          -14.235004,
          -0.789275,
          4.570868,
          6.42375,
          14.058324,
          20.593684,
          23.634501,
          33.223191,
          36.204824,
          37.09024,
          40.463667,
          46.227638,
          51.165691,
          55.378051,
          56.130366,
          56.879635
         ],
         "legendgroup": "Comedy",
         "lon": [
          -63.616672,
          -51.92528,
          113.921327,
          -74.297333,
          -66.58973,
          108.277199,
          78.96288,
          -102.552784,
          43.679291,
          138.252924,
          -95.712891,
          -3.74922,
          2.213749,
          10.451526,
          -3.435973,
          -106.346771,
          24.603189
         ],
         "marker": {
          "color": "#636efa",
          "opacity": 0.8,
          "symbol": "circle"
         },
         "mode": "markers",
         "name": "Comedy",
         "showlegend": true,
         "type": "scattergeo"
        },
        {
         "customdata": [
          [
           100000
          ],
          [
           null
          ],
          [
           100000
          ],
          [
           1600000
          ],
          [
           200000
          ],
          [
           1000000
          ],
          [
           100000
          ],
          [
           100000
          ],
          [
           300000
          ],
          [
           400000
          ],
          [
           300000
          ]
         ],
         "geo": "geo",
         "hovertemplate": "<b>%{hovertext}</b><br><br>channel_type=Education<br>Latitude=%{lat}<br>Longitude=%{lon}<br>subscribers_for_last_30_days=%{customdata[0]}<extra></extra>",
         "hovertext": [
          "Argentina",
          "Brazil",
          "Indonesia",
          "India",
          "Mexico",
          "United States",
          "Spain",
          "Germany",
          "United Kingdom",
          "Canada",
          "Russia"
         ],
         "lat": [
          -38.416097,
          -14.235004,
          -0.789275,
          20.593684,
          23.634501,
          37.09024,
          40.463667,
          51.165691,
          55.378051,
          56.130366,
          61.52401
         ],
         "legendgroup": "Education",
         "lon": [
          -63.616672,
          -51.92528,
          113.921327,
          78.96288,
          -102.552784,
          -95.712891,
          -3.74922,
          10.451526,
          -3.435973,
          -106.346771,
          105.318756
         ],
         "marker": {
          "color": "#EF553B",
          "opacity": 0.8,
          "symbol": "circle"
         },
         "mode": "markers",
         "name": "Education",
         "showlegend": true,
         "type": "scattergeo"
        },
        {
         "customdata": [
          [
           600000
          ],
          [
           700000
          ],
          [
           null
          ],
          [
           100000
          ],
          [
           5500000
          ],
          [
           200000
          ],
          [
           200000
          ],
          [
           1600000
          ],
          [
           500000
          ],
          [
           100000
          ],
          [
           300000
          ],
          [
           1400000
          ],
          [
           200000
          ],
          [
           600000
          ],
          [
           null
          ],
          [
           100000
          ],
          [
           100000
          ],
          [
           1300000
          ],
          [
           1300000
          ],
          [
           300000
          ],
          [
           1100000
          ],
          [
           8000000
          ],
          [
           100000
          ],
          [
           600
          ],
          [
           2000000
          ],
          [
           100000
          ],
          [
           200000
          ],
          [
           900000
          ],
          [
           null
          ],
          [
           500000
          ],
          [
           100000
          ],
          [
           null
          ],
          [
           700000
          ]
         ],
         "geo": "geo",
         "hovertemplate": "<b>%{hovertext}</b><br><br>channel_type=Entertainment<br>Latitude=%{lat}<br>Longitude=%{lon}<br>subscribers_for_last_30_days=%{customdata[0]}<extra></extra>",
         "hovertext": [
          "Argentina",
          "Brazil",
          "Peru",
          "Ecuador",
          "Indonesia",
          "Singapore",
          "Malaysia",
          "Colombia",
          "Philippines",
          "Vietnam",
          "Thailand",
          "India",
          "United Arab Emirates",
          "Mexico",
          "Bangladesh",
          "Saudi Arabia",
          "Egypt",
          "Kuwait",
          "Pakistan",
          "South Korea",
          "Japan",
          "United States",
          "Turkey",
          "Spain",
          "Italy",
          "France",
          "Ukraine",
          "Germany",
          "Netherlands",
          "United Kingdom",
          "Canada",
          "Sweden",
          "Russia"
         ],
         "lat": [
          -38.416097,
          -14.235004,
          -9.189967,
          -1.831239,
          -0.789275,
          1.352083,
          4.210484,
          4.570868,
          12.879721,
          14.058324,
          15.870032,
          20.593684,
          23.424076,
          23.634501,
          23.684994,
          23.885942,
          26.820553,
          29.31166,
          30.375321,
          35.907757,
          36.204824,
          37.09024,
          38.963745,
          40.463667,
          41.87194,
          46.227638,
          48.379433,
          51.165691,
          52.132633,
          55.378051,
          56.130366,
          60.128161,
          61.52401
         ],
         "legendgroup": "Entertainment",
         "lon": [
          -63.616672,
          -51.92528,
          -75.015152,
          -78.183406,
          113.921327,
          103.819836,
          101.975766,
          -74.297333,
          121.774017,
          108.277199,
          100.992541,
          78.96288,
          53.847818,
          -102.552784,
          90.356331,
          45.079162,
          30.802498,
          47.481766,
          69.345116,
          127.766922,
          138.252924,
          -95.712891,
          35.243322,
          -3.74922,
          12.56738,
          2.213749,
          31.16558,
          10.451526,
          5.291266,
          -3.435973,
          -106.346771,
          18.643501,
          105.318756
         ],
         "marker": {
          "color": "#00cc96",
          "opacity": 0.8,
          "symbol": "circle"
         },
         "mode": "markers",
         "name": "Entertainment",
         "showlegend": true,
         "type": "scattergeo"
        },
        {
         "customdata": [
          [
           1900000
          ],
          [
           500000
          ],
          [
           null
          ],
          [
           1000000
          ],
          [
           300000
          ],
          [
           200000
          ],
          [
           200000
          ],
          [
           null
          ],
          [
           500000
          ],
          [
           200000
          ],
          [
           500000
          ],
          [
           12
          ],
          [
           1000000
          ],
          [
           800000
          ],
          [
           2100000
          ],
          [
           800000
          ],
          [
           3580
          ],
          [
           200000
          ],
          [
           600000
          ],
          [
           1
          ],
          [
           100000
          ],
          [
           200000
          ],
          [
           null
          ]
         ],
         "geo": "geo",
         "hovertemplate": "<b>%{hovertext}</b><br><br>channel_type=Games<br>Latitude=%{lat}<br>Longitude=%{lon}<br>subscribers_for_last_30_days=%{customdata[0]}<extra></extra>",
         "hovertext": [
          "Argentina",
          "Chile",
          "Australia",
          "Brazil",
          "Ecuador",
          "Indonesia",
          "El Salvador",
          "Thailand",
          "India",
          "Mexico",
          "Saudi Arabia",
          "Afghanistan",
          "South Korea",
          "United States",
          "Turkey",
          "Spain",
          "Germany",
          "Netherlands",
          "United Kingdom",
          "Canada",
          "Sweden",
          "Russia",
          "Finland"
         ],
         "lat": [
          -38.416097,
          -35.675147,
          -25.274398,
          -14.235004,
          -1.831239,
          -0.789275,
          13.794185,
          15.870032,
          20.593684,
          23.634501,
          23.885942,
          33.93911,
          35.907757,
          37.09024,
          38.963745,
          40.463667,
          51.165691,
          52.132633,
          55.378051,
          56.130366,
          60.128161,
          61.52401,
          61.92411
         ],
         "legendgroup": "Games",
         "lon": [
          -63.616672,
          -71.542969,
          133.775136,
          -51.92528,
          -78.183406,
          113.921327,
          -88.89653,
          100.992541,
          78.96288,
          -102.552784,
          45.079162,
          67.709953,
          127.766922,
          -95.712891,
          35.243322,
          -3.74922,
          10.451526,
          5.291266,
          -3.435973,
          -106.346771,
          18.643501,
          105.318756,
          25.748151
         ],
         "marker": {
          "color": "#ab63fa",
          "opacity": 0.8,
          "symbol": "circle"
         },
         "mode": "markers",
         "name": "Games",
         "showlegend": true,
         "type": "scattergeo"
        },
        {
         "customdata": [
          [
           600000
          ],
          [
           null
          ],
          [
           100000
          ],
          [
           3
          ],
          [
           300000
          ],
          [
           null
          ],
          [
           100000
          ],
          [
           100000
          ],
          [
           2000000
          ],
          [
           100000
          ],
          [
           200000
          ],
          [
           300000
          ],
          [
           null
          ],
          [
           null
          ],
          [
           900000
          ],
          [
           800000
          ],
          [
           200000
          ],
          [
           100000
          ],
          [
           100000
          ],
          [
           100000
          ],
          [
           100000
          ],
          [
           200000
          ],
          [
           null
          ]
         ],
         "geo": "geo",
         "hovertemplate": "<b>%{hovertext}</b><br><br>channel_type=Music<br>Latitude=%{lat}<br>Longitude=%{lon}<br>subscribers_for_last_30_days=%{customdata[0]}<extra></extra>",
         "hovertext": [
          "Argentina",
          "Australia",
          "Brazil",
          "Samoa",
          "Colombia",
          "Philippines",
          "Barbados",
          "Thailand",
          "India",
          "Mexico",
          "Saudi Arabia",
          "Jordan",
          "Morocco",
          "Iraq",
          "South Korea",
          "United States",
          "Turkey",
          "Spain",
          "France",
          "Netherlands",
          "United Kingdom",
          "Canada",
          "Sweden"
         ],
         "lat": [
          -38.416097,
          -25.274398,
          -14.235004,
          -13.759029,
          4.570868,
          12.879721,
          13.193887,
          15.870032,
          20.593684,
          23.634501,
          23.885942,
          30.585164,
          31.791702,
          33.223191,
          35.907757,
          37.09024,
          38.963745,
          40.463667,
          46.227638,
          52.132633,
          55.378051,
          56.130366,
          60.128161
         ],
         "legendgroup": "Music",
         "lon": [
          -63.616672,
          133.775136,
          -51.92528,
          -172.104629,
          -74.297333,
          121.774017,
          -59.543198,
          100.992541,
          78.96288,
          -102.552784,
          45.079162,
          36.238414,
          -7.09262,
          43.679291,
          127.766922,
          -95.712891,
          35.243322,
          -3.74922,
          2.213749,
          5.291266,
          -3.435973,
          -106.346771,
          18.643501
         ],
         "marker": {
          "color": "#FFA15A",
          "opacity": 0.8,
          "symbol": "circle"
         },
         "mode": "markers",
         "name": "Music",
         "showlegend": true,
         "type": "scattergeo"
        },
        {
         "customdata": [
          [
           null
          ],
          [
           4
          ],
          [
           1
          ],
          [
           100000
          ],
          [
           1600000
          ],
          [
           800
          ],
          [
           1500000
          ],
          [
           100000
          ],
          [
           1600000
          ],
          [
           10
          ],
          [
           3400000
          ],
          [
           400000
          ],
          [
           8
          ],
          [
           3200000
          ],
          [
           1700000
          ],
          [
           100000
          ],
          [
           1600000
          ]
         ],
         "geo": "geo",
         "hovertemplate": "<b>%{hovertext}</b><br><br>channel_type=People<br>Latitude=%{lat}<br>Longitude=%{lon}<br>subscribers_for_last_30_days=%{customdata[0]}<extra></extra>",
         "hovertext": [
          "Argentina",
          "Chile",
          "Australia",
          "Brazil",
          "Indonesia",
          "Singapore",
          "Colombia",
          "Philippines",
          "India",
          "Cuba",
          "United Arab Emirates",
          "Mexico",
          "Pakistan",
          "South Korea",
          "United States",
          "Ukraine",
          "Russia"
         ],
         "lat": [
          -38.416097,
          -35.675147,
          -25.274398,
          -14.235004,
          -0.789275,
          1.352083,
          4.570868,
          12.879721,
          20.593684,
          21.521757,
          23.424076,
          23.634501,
          30.375321,
          35.907757,
          37.09024,
          48.379433,
          61.52401
         ],
         "legendgroup": "People",
         "lon": [
          -63.616672,
          -71.542969,
          133.775136,
          -51.92528,
          113.921327,
          103.819836,
          -74.297333,
          121.774017,
          78.96288,
          -77.781167,
          53.847818,
          -102.552784,
          69.345116,
          127.766922,
          -95.712891,
          31.16558,
          105.318756
         ],
         "marker": {
          "color": "#19d3f3",
          "opacity": 0.8,
          "symbol": "circle"
         },
         "mode": "markers",
         "name": "People",
         "showlegend": true,
         "type": "scattergeo"
        },
        {
         "customdata": [
          [
           null
          ],
          [
           null
          ],
          [
           null
          ],
          [
           500000
          ],
          [
           400000
          ],
          [
           200000
          ],
          [
           100000
          ],
          [
           100000
          ],
          [
           100000
          ],
          [
           null
          ]
         ],
         "geo": "geo",
         "hovertemplate": "<b>%{hovertext}</b><br><br>channel_type=Howto<br>Latitude=%{lat}<br>Longitude=%{lon}<br>subscribers_for_last_30_days=%{customdata[0]}<extra></extra>",
         "hovertext": [
          "Australia",
          "Brazil",
          "Indonesia",
          "Colombia",
          "India",
          "Mexico",
          "Egypt",
          "China",
          "United States",
          "Ukraine"
         ],
         "lat": [
          -25.274398,
          -14.235004,
          -0.789275,
          4.570868,
          20.593684,
          23.634501,
          26.820553,
          35.86166,
          37.09024,
          48.379433
         ],
         "legendgroup": "Howto",
         "lon": [
          133.775136,
          -51.92528,
          113.921327,
          -74.297333,
          78.96288,
          -102.552784,
          30.802498,
          104.195397,
          -95.712891,
          31.16558
         ],
         "marker": {
          "color": "#FF6692",
          "opacity": 0.8,
          "symbol": "circle"
         },
         "mode": "markers",
         "name": "Howto",
         "showlegend": true,
         "type": "scattergeo"
        },
        {
         "customdata": [
          [
           600000
          ],
          [
           600000
          ],
          [
           200000
          ],
          [
           100000
          ],
          [
           null
          ],
          [
           3000000
          ]
         ],
         "geo": "geo",
         "hovertemplate": "<b>%{hovertext}</b><br><br>channel_type=Sports<br>Latitude=%{lat}<br>Longitude=%{lon}<br>subscribers_for_last_30_days=%{customdata[0]}<extra></extra>",
         "hovertext": [
          "Australia",
          "United States",
          "Spain",
          "Switzerland",
          "United Kingdom",
          "Sweden"
         ],
         "lat": [
          -25.274398,
          37.09024,
          40.463667,
          46.818188,
          55.378051,
          60.128161
         ],
         "legendgroup": "Sports",
         "lon": [
          133.775136,
          -95.712891,
          -3.74922,
          8.227512,
          -3.435973,
          18.643501
         ],
         "marker": {
          "color": "#B6E880",
          "opacity": 0.8,
          "symbol": "circle"
         },
         "mode": "markers",
         "name": "Sports",
         "showlegend": true,
         "type": "scattergeo"
        },
        {
         "customdata": [
          [
           200000
          ],
          [
           200000
          ],
          [
           null
          ],
          [
           1300000
          ],
          [
           200000
          ],
          [
           300000
          ],
          [
           1000000
          ],
          [
           100000
          ],
          [
           700000
          ]
         ],
         "geo": "geo",
         "hovertemplate": "<b>%{hovertext}</b><br><br>channel_type=Film<br>Latitude=%{lat}<br>Longitude=%{lon}<br>subscribers_for_last_30_days=%{customdata[0]}<extra></extra>",
         "hovertext": [
          "Brazil",
          "Vietnam",
          "Thailand",
          "India",
          "Mexico",
          "Saudi Arabia",
          "United States",
          "United Kingdom",
          "Russia"
         ],
         "lat": [
          -14.235004,
          14.058324,
          15.870032,
          20.593684,
          23.634501,
          23.885942,
          37.09024,
          55.378051,
          61.52401
         ],
         "legendgroup": "Film",
         "lon": [
          -51.92528,
          108.277199,
          100.992541,
          78.96288,
          -102.552784,
          45.079162,
          -95.712891,
          -3.435973,
          105.318756
         ],
         "marker": {
          "color": "#FF97FF",
          "opacity": 0.8,
          "symbol": "circle"
         },
         "mode": "markers",
         "name": "Film",
         "showlegend": true,
         "type": "scattergeo"
        },
        {
         "customdata": [
          [
           400000
          ],
          [
           100000
          ]
         ],
         "geo": "geo",
         "hovertemplate": "<b>%{hovertext}</b><br><br>channel_type=Nonprofit<br>Latitude=%{lat}<br>Longitude=%{lon}<br>subscribers_for_last_30_days=%{customdata[0]}<extra></extra>",
         "hovertext": [
          "Brazil",
          "United States"
         ],
         "lat": [
          -14.235004,
          37.09024
         ],
         "legendgroup": "Nonprofit",
         "lon": [
          -51.92528,
          -95.712891
         ],
         "marker": {
          "color": "#FECB52",
          "opacity": 0.8,
          "symbol": "circle"
         },
         "mode": "markers",
         "name": "Nonprofit",
         "showlegend": true,
         "type": "scattergeo"
        },
        {
         "customdata": [
          [
           100000
          ],
          [
           500000
          ],
          [
           200000
          ],
          [
           null
          ],
          [
           400000
          ],
          [
           100000
          ]
         ],
         "geo": "geo",
         "hovertemplate": "<b>%{hovertext}</b><br><br>channel_type=Tech<br>Latitude=%{lat}<br>Longitude=%{lon}<br>subscribers_for_last_30_days=%{customdata[0]}<extra></extra>",
         "hovertext": [
          "Brazil",
          "India",
          "United States",
          "Germany",
          "United Kingdom",
          "Canada"
         ],
         "lat": [
          -14.235004,
          20.593684,
          37.09024,
          51.165691,
          55.378051,
          56.130366
         ],
         "legendgroup": "Tech",
         "lon": [
          -51.92528,
          78.96288,
          -95.712891,
          10.451526,
          -3.435973,
          -106.346771
         ],
         "marker": {
          "color": "#636efa",
          "opacity": 0.8,
          "symbol": "circle"
         },
         "mode": "markers",
         "name": "Tech",
         "showlegend": true,
         "type": "scattergeo"
        },
        {
         "customdata": [
          [
           100000
          ],
          [
           300000
          ],
          [
           200000
          ],
          [
           700000
          ],
          [
           100000
          ],
          [
           100000
          ],
          [
           100000
          ],
          [
           230000
          ],
          [
           100000
          ],
          [
           null
          ]
         ],
         "geo": "geo",
         "hovertemplate": "<b>%{hovertext}</b><br><br>channel_type=News<br>Latitude=%{lat}<br>Longitude=%{lon}<br>subscribers_for_last_30_days=%{customdata[0]}<extra></extra>",
         "hovertext": [
          "Indonesia",
          "Philippines",
          "Thailand",
          "India",
          "United Arab Emirates",
          "Pakistan",
          "United States",
          "Ukraine",
          "United Kingdom",
          "Russia"
         ],
         "lat": [
          -0.789275,
          12.879721,
          15.870032,
          20.593684,
          23.424076,
          30.375321,
          37.09024,
          48.379433,
          55.378051,
          61.52401
         ],
         "legendgroup": "News",
         "lon": [
          113.921327,
          121.774017,
          100.992541,
          78.96288,
          53.847818,
          69.345116,
          -95.712891,
          31.16558,
          -3.435973,
          105.318756
         ],
         "marker": {
          "color": "#EF553B",
          "opacity": 0.8,
          "symbol": "circle"
         },
         "mode": "markers",
         "name": "News",
         "showlegend": true,
         "type": "scattergeo"
        },
        {
         "customdata": [
          [
           500000
          ],
          [
           9
          ]
         ],
         "geo": "geo",
         "hovertemplate": "<b>%{hovertext}</b><br><br>channel_type=Autos<br>Latitude=%{lat}<br>Longitude=%{lon}<br>subscribers_for_last_30_days=%{customdata[0]}<extra></extra>",
         "hovertext": [
          "United Arab Emirates",
          "Japan"
         ],
         "lat": [
          23.424076,
          36.204824
         ],
         "legendgroup": "Autos",
         "lon": [
          53.847818,
          138.252924
         ],
         "marker": {
          "color": "#00cc96",
          "opacity": 0.8,
          "symbol": "circle"
         },
         "mode": "markers",
         "name": "Autos",
         "showlegend": true,
         "type": "scattergeo"
        },
        {
         "customdata": [
          [
           1100000
          ]
         ],
         "geo": "geo",
         "hovertemplate": "<b>%{hovertext}</b><br><br>channel_type=Animals<br>Latitude=%{lat}<br>Longitude=%{lon}<br>subscribers_for_last_30_days=%{customdata[0]}<extra></extra>",
         "hovertext": [
          "United States"
         ],
         "lat": [
          37.09024
         ],
         "legendgroup": "Animals",
         "lon": [
          -95.712891
         ],
         "marker": {
          "color": "#ab63fa",
          "opacity": 0.8,
          "symbol": "circle"
         },
         "mode": "markers",
         "name": "Animals",
         "showlegend": true,
         "type": "scattergeo"
        }
       ],
       "layout": {
        "geo": {
         "center": {},
         "domain": {
          "x": [
           0,
           1
          ],
          "y": [
           0,
           1
          ]
         },
         "projection": {
          "type": "orthographic"
         }
        },
        "legend": {
         "title": {
          "text": "channel_type"
         },
         "tracegroupgap": 0
        },
        "margin": {
         "t": 60
        },
        "template": {
         "data": {
          "bar": [
           {
            "error_x": {
             "color": "#2a3f5f"
            },
            "error_y": {
             "color": "#2a3f5f"
            },
            "marker": {
             "line": {
              "color": "#E5ECF6",
              "width": 0.5
             },
             "pattern": {
              "fillmode": "overlay",
              "size": 10,
              "solidity": 0.2
             }
            },
            "type": "bar"
           }
          ],
          "barpolar": [
           {
            "marker": {
             "line": {
              "color": "#E5ECF6",
              "width": 0.5
             },
             "pattern": {
              "fillmode": "overlay",
              "size": 10,
              "solidity": 0.2
             }
            },
            "type": "barpolar"
           }
          ],
          "carpet": [
           {
            "aaxis": {
             "endlinecolor": "#2a3f5f",
             "gridcolor": "white",
             "linecolor": "white",
             "minorgridcolor": "white",
             "startlinecolor": "#2a3f5f"
            },
            "baxis": {
             "endlinecolor": "#2a3f5f",
             "gridcolor": "white",
             "linecolor": "white",
             "minorgridcolor": "white",
             "startlinecolor": "#2a3f5f"
            },
            "type": "carpet"
           }
          ],
          "choropleth": [
           {
            "colorbar": {
             "outlinewidth": 0,
             "ticks": ""
            },
            "type": "choropleth"
           }
          ],
          "contour": [
           {
            "colorbar": {
             "outlinewidth": 0,
             "ticks": ""
            },
            "colorscale": [
             [
              0,
              "#0d0887"
             ],
             [
              0.1111111111111111,
              "#46039f"
             ],
             [
              0.2222222222222222,
              "#7201a8"
             ],
             [
              0.3333333333333333,
              "#9c179e"
             ],
             [
              0.4444444444444444,
              "#bd3786"
             ],
             [
              0.5555555555555556,
              "#d8576b"
             ],
             [
              0.6666666666666666,
              "#ed7953"
             ],
             [
              0.7777777777777778,
              "#fb9f3a"
             ],
             [
              0.8888888888888888,
              "#fdca26"
             ],
             [
              1,
              "#f0f921"
             ]
            ],
            "type": "contour"
           }
          ],
          "contourcarpet": [
           {
            "colorbar": {
             "outlinewidth": 0,
             "ticks": ""
            },
            "type": "contourcarpet"
           }
          ],
          "heatmap": [
           {
            "colorbar": {
             "outlinewidth": 0,
             "ticks": ""
            },
            "colorscale": [
             [
              0,
              "#0d0887"
             ],
             [
              0.1111111111111111,
              "#46039f"
             ],
             [
              0.2222222222222222,
              "#7201a8"
             ],
             [
              0.3333333333333333,
              "#9c179e"
             ],
             [
              0.4444444444444444,
              "#bd3786"
             ],
             [
              0.5555555555555556,
              "#d8576b"
             ],
             [
              0.6666666666666666,
              "#ed7953"
             ],
             [
              0.7777777777777778,
              "#fb9f3a"
             ],
             [
              0.8888888888888888,
              "#fdca26"
             ],
             [
              1,
              "#f0f921"
             ]
            ],
            "type": "heatmap"
           }
          ],
          "heatmapgl": [
           {
            "colorbar": {
             "outlinewidth": 0,
             "ticks": ""
            },
            "colorscale": [
             [
              0,
              "#0d0887"
             ],
             [
              0.1111111111111111,
              "#46039f"
             ],
             [
              0.2222222222222222,
              "#7201a8"
             ],
             [
              0.3333333333333333,
              "#9c179e"
             ],
             [
              0.4444444444444444,
              "#bd3786"
             ],
             [
              0.5555555555555556,
              "#d8576b"
             ],
             [
              0.6666666666666666,
              "#ed7953"
             ],
             [
              0.7777777777777778,
              "#fb9f3a"
             ],
             [
              0.8888888888888888,
              "#fdca26"
             ],
             [
              1,
              "#f0f921"
             ]
            ],
            "type": "heatmapgl"
           }
          ],
          "histogram": [
           {
            "marker": {
             "pattern": {
              "fillmode": "overlay",
              "size": 10,
              "solidity": 0.2
             }
            },
            "type": "histogram"
           }
          ],
          "histogram2d": [
           {
            "colorbar": {
             "outlinewidth": 0,
             "ticks": ""
            },
            "colorscale": [
             [
              0,
              "#0d0887"
             ],
             [
              0.1111111111111111,
              "#46039f"
             ],
             [
              0.2222222222222222,
              "#7201a8"
             ],
             [
              0.3333333333333333,
              "#9c179e"
             ],
             [
              0.4444444444444444,
              "#bd3786"
             ],
             [
              0.5555555555555556,
              "#d8576b"
             ],
             [
              0.6666666666666666,
              "#ed7953"
             ],
             [
              0.7777777777777778,
              "#fb9f3a"
             ],
             [
              0.8888888888888888,
              "#fdca26"
             ],
             [
              1,
              "#f0f921"
             ]
            ],
            "type": "histogram2d"
           }
          ],
          "histogram2dcontour": [
           {
            "colorbar": {
             "outlinewidth": 0,
             "ticks": ""
            },
            "colorscale": [
             [
              0,
              "#0d0887"
             ],
             [
              0.1111111111111111,
              "#46039f"
             ],
             [
              0.2222222222222222,
              "#7201a8"
             ],
             [
              0.3333333333333333,
              "#9c179e"
             ],
             [
              0.4444444444444444,
              "#bd3786"
             ],
             [
              0.5555555555555556,
              "#d8576b"
             ],
             [
              0.6666666666666666,
              "#ed7953"
             ],
             [
              0.7777777777777778,
              "#fb9f3a"
             ],
             [
              0.8888888888888888,
              "#fdca26"
             ],
             [
              1,
              "#f0f921"
             ]
            ],
            "type": "histogram2dcontour"
           }
          ],
          "mesh3d": [
           {
            "colorbar": {
             "outlinewidth": 0,
             "ticks": ""
            },
            "type": "mesh3d"
           }
          ],
          "parcoords": [
           {
            "line": {
             "colorbar": {
              "outlinewidth": 0,
              "ticks": ""
             }
            },
            "type": "parcoords"
           }
          ],
          "pie": [
           {
            "automargin": true,
            "type": "pie"
           }
          ],
          "scatter": [
           {
            "fillpattern": {
             "fillmode": "overlay",
             "size": 10,
             "solidity": 0.2
            },
            "type": "scatter"
           }
          ],
          "scatter3d": [
           {
            "line": {
             "colorbar": {
              "outlinewidth": 0,
              "ticks": ""
             }
            },
            "marker": {
             "colorbar": {
              "outlinewidth": 0,
              "ticks": ""
             }
            },
            "type": "scatter3d"
           }
          ],
          "scattercarpet": [
           {
            "marker": {
             "colorbar": {
              "outlinewidth": 0,
              "ticks": ""
             }
            },
            "type": "scattercarpet"
           }
          ],
          "scattergeo": [
           {
            "marker": {
             "colorbar": {
              "outlinewidth": 0,
              "ticks": ""
             }
            },
            "type": "scattergeo"
           }
          ],
          "scattergl": [
           {
            "marker": {
             "colorbar": {
              "outlinewidth": 0,
              "ticks": ""
             }
            },
            "type": "scattergl"
           }
          ],
          "scattermapbox": [
           {
            "marker": {
             "colorbar": {
              "outlinewidth": 0,
              "ticks": ""
             }
            },
            "type": "scattermapbox"
           }
          ],
          "scatterpolar": [
           {
            "marker": {
             "colorbar": {
              "outlinewidth": 0,
              "ticks": ""
             }
            },
            "type": "scatterpolar"
           }
          ],
          "scatterpolargl": [
           {
            "marker": {
             "colorbar": {
              "outlinewidth": 0,
              "ticks": ""
             }
            },
            "type": "scatterpolargl"
           }
          ],
          "scatterternary": [
           {
            "marker": {
             "colorbar": {
              "outlinewidth": 0,
              "ticks": ""
             }
            },
            "type": "scatterternary"
           }
          ],
          "surface": [
           {
            "colorbar": {
             "outlinewidth": 0,
             "ticks": ""
            },
            "colorscale": [
             [
              0,
              "#0d0887"
             ],
             [
              0.1111111111111111,
              "#46039f"
             ],
             [
              0.2222222222222222,
              "#7201a8"
             ],
             [
              0.3333333333333333,
              "#9c179e"
             ],
             [
              0.4444444444444444,
              "#bd3786"
             ],
             [
              0.5555555555555556,
              "#d8576b"
             ],
             [
              0.6666666666666666,
              "#ed7953"
             ],
             [
              0.7777777777777778,
              "#fb9f3a"
             ],
             [
              0.8888888888888888,
              "#fdca26"
             ],
             [
              1,
              "#f0f921"
             ]
            ],
            "type": "surface"
           }
          ],
          "table": [
           {
            "cells": {
             "fill": {
              "color": "#EBF0F8"
             },
             "line": {
              "color": "white"
             }
            },
            "header": {
             "fill": {
              "color": "#C8D4E3"
             },
             "line": {
              "color": "white"
             }
            },
            "type": "table"
           }
          ]
         },
         "layout": {
          "annotationdefaults": {
           "arrowcolor": "#2a3f5f",
           "arrowhead": 0,
           "arrowwidth": 1
          },
          "autotypenumbers": "strict",
          "coloraxis": {
           "colorbar": {
            "outlinewidth": 0,
            "ticks": ""
           }
          },
          "colorscale": {
           "diverging": [
            [
             0,
             "#8e0152"
            ],
            [
             0.1,
             "#c51b7d"
            ],
            [
             0.2,
             "#de77ae"
            ],
            [
             0.3,
             "#f1b6da"
            ],
            [
             0.4,
             "#fde0ef"
            ],
            [
             0.5,
             "#f7f7f7"
            ],
            [
             0.6,
             "#e6f5d0"
            ],
            [
             0.7,
             "#b8e186"
            ],
            [
             0.8,
             "#7fbc41"
            ],
            [
             0.9,
             "#4d9221"
            ],
            [
             1,
             "#276419"
            ]
           ],
           "sequential": [
            [
             0,
             "#0d0887"
            ],
            [
             0.1111111111111111,
             "#46039f"
            ],
            [
             0.2222222222222222,
             "#7201a8"
            ],
            [
             0.3333333333333333,
             "#9c179e"
            ],
            [
             0.4444444444444444,
             "#bd3786"
            ],
            [
             0.5555555555555556,
             "#d8576b"
            ],
            [
             0.6666666666666666,
             "#ed7953"
            ],
            [
             0.7777777777777778,
             "#fb9f3a"
            ],
            [
             0.8888888888888888,
             "#fdca26"
            ],
            [
             1,
             "#f0f921"
            ]
           ],
           "sequentialminus": [
            [
             0,
             "#0d0887"
            ],
            [
             0.1111111111111111,
             "#46039f"
            ],
            [
             0.2222222222222222,
             "#7201a8"
            ],
            [
             0.3333333333333333,
             "#9c179e"
            ],
            [
             0.4444444444444444,
             "#bd3786"
            ],
            [
             0.5555555555555556,
             "#d8576b"
            ],
            [
             0.6666666666666666,
             "#ed7953"
            ],
            [
             0.7777777777777778,
             "#fb9f3a"
            ],
            [
             0.8888888888888888,
             "#fdca26"
            ],
            [
             1,
             "#f0f921"
            ]
           ]
          },
          "colorway": [
           "#636efa",
           "#EF553B",
           "#00cc96",
           "#ab63fa",
           "#FFA15A",
           "#19d3f3",
           "#FF6692",
           "#B6E880",
           "#FF97FF",
           "#FECB52"
          ],
          "font": {
           "color": "#2a3f5f"
          },
          "geo": {
           "bgcolor": "white",
           "lakecolor": "white",
           "landcolor": "#E5ECF6",
           "showlakes": true,
           "showland": true,
           "subunitcolor": "white"
          },
          "hoverlabel": {
           "align": "left"
          },
          "hovermode": "closest",
          "mapbox": {
           "style": "light"
          },
          "paper_bgcolor": "white",
          "plot_bgcolor": "#E5ECF6",
          "polar": {
           "angularaxis": {
            "gridcolor": "white",
            "linecolor": "white",
            "ticks": ""
           },
           "bgcolor": "#E5ECF6",
           "radialaxis": {
            "gridcolor": "white",
            "linecolor": "white",
            "ticks": ""
           }
          },
          "scene": {
           "xaxis": {
            "backgroundcolor": "#E5ECF6",
            "gridcolor": "white",
            "gridwidth": 2,
            "linecolor": "white",
            "showbackground": true,
            "ticks": "",
            "zerolinecolor": "white"
           },
           "yaxis": {
            "backgroundcolor": "#E5ECF6",
            "gridcolor": "white",
            "gridwidth": 2,
            "linecolor": "white",
            "showbackground": true,
            "ticks": "",
            "zerolinecolor": "white"
           },
           "zaxis": {
            "backgroundcolor": "#E5ECF6",
            "gridcolor": "white",
            "gridwidth": 2,
            "linecolor": "white",
            "showbackground": true,
            "ticks": "",
            "zerolinecolor": "white"
           }
          },
          "shapedefaults": {
           "line": {
            "color": "#2a3f5f"
           }
          },
          "ternary": {
           "aaxis": {
            "gridcolor": "white",
            "linecolor": "white",
            "ticks": ""
           },
           "baxis": {
            "gridcolor": "white",
            "linecolor": "white",
            "ticks": ""
           },
           "bgcolor": "#E5ECF6",
           "caxis": {
            "gridcolor": "white",
            "linecolor": "white",
            "ticks": ""
           }
          },
          "title": {
           "x": 0.05
          },
          "xaxis": {
           "automargin": true,
           "gridcolor": "white",
           "linecolor": "white",
           "ticks": "",
           "title": {
            "standoff": 15
           },
           "zerolinecolor": "white",
           "zerolinewidth": 2
          },
          "yaxis": {
           "automargin": true,
           "gridcolor": "white",
           "linecolor": "white",
           "ticks": "",
           "title": {
            "standoff": 15
           },
           "zerolinecolor": "white",
           "zerolinewidth": 2
          }
         }
        }
       }
      },
      "text/html": [
       "<div>                            <div id=\"46f21062-ae30-47b1-8444-889f299ef55c\" class=\"plotly-graph-div\" style=\"height:525px; width:100%;\"></div>            <script type=\"text/javascript\">                require([\"plotly\"], function(Plotly) {                    window.PLOTLYENV=window.PLOTLYENV || {};                                    if (document.getElementById(\"46f21062-ae30-47b1-8444-889f299ef55c\")) {                    Plotly.newPlot(                        \"46f21062-ae30-47b1-8444-889f299ef55c\",                        [{\"customdata\":[[700000.0],[1100000.0],[100000.0],[null],[100.0],[null],[700000.0],[100000.0],[null],[900000.0],[1900000.0],[null],[null],[800000.0],[100000.0],[null],[1200000.0]],\"geo\":\"geo\",\"hovertemplate\":\"\\u003cb\\u003e%{hovertext}\\u003c\\u002fb\\u003e\\u003cbr\\u003e\\u003cbr\\u003echannel_type=Comedy\\u003cbr\\u003eLatitude=%{lat}\\u003cbr\\u003eLongitude=%{lon}\\u003cbr\\u003esubscribers_for_last_30_days=%{customdata[0]}\\u003cextra\\u003e\\u003c\\u002fextra\\u003e\",\"hovertext\":[\"Argentina\",\"Brazil\",\"Indonesia\",\"Colombia\",\"Venezuela\",\"Vietnam\",\"India\",\"Mexico\",\"Iraq\",\"Japan\",\"United States\",\"Spain\",\"France\",\"Germany\",\"United Kingdom\",\"Canada\",\"Latvia\"],\"lat\":[-38.416097,-14.235004,-0.789275,4.570868,6.42375,14.058324,20.593684,23.634501,33.223191,36.204824,37.09024,40.463667,46.227638,51.165691,55.378051,56.130366,56.879635],\"legendgroup\":\"Comedy\",\"lon\":[-63.616672,-51.92528,113.921327,-74.297333,-66.58973,108.277199,78.96288,-102.552784,43.679291,138.252924,-95.712891,-3.74922,2.213749,10.451526,-3.435973,-106.346771,24.603189],\"marker\":{\"color\":\"#636efa\",\"opacity\":0.8,\"symbol\":\"circle\"},\"mode\":\"markers\",\"name\":\"Comedy\",\"showlegend\":true,\"type\":\"scattergeo\"},{\"customdata\":[[100000.0],[null],[100000.0],[1600000.0],[200000.0],[1000000.0],[100000.0],[100000.0],[300000.0],[400000.0],[300000.0]],\"geo\":\"geo\",\"hovertemplate\":\"\\u003cb\\u003e%{hovertext}\\u003c\\u002fb\\u003e\\u003cbr\\u003e\\u003cbr\\u003echannel_type=Education\\u003cbr\\u003eLatitude=%{lat}\\u003cbr\\u003eLongitude=%{lon}\\u003cbr\\u003esubscribers_for_last_30_days=%{customdata[0]}\\u003cextra\\u003e\\u003c\\u002fextra\\u003e\",\"hovertext\":[\"Argentina\",\"Brazil\",\"Indonesia\",\"India\",\"Mexico\",\"United States\",\"Spain\",\"Germany\",\"United Kingdom\",\"Canada\",\"Russia\"],\"lat\":[-38.416097,-14.235004,-0.789275,20.593684,23.634501,37.09024,40.463667,51.165691,55.378051,56.130366,61.52401],\"legendgroup\":\"Education\",\"lon\":[-63.616672,-51.92528,113.921327,78.96288,-102.552784,-95.712891,-3.74922,10.451526,-3.435973,-106.346771,105.318756],\"marker\":{\"color\":\"#EF553B\",\"opacity\":0.8,\"symbol\":\"circle\"},\"mode\":\"markers\",\"name\":\"Education\",\"showlegend\":true,\"type\":\"scattergeo\"},{\"customdata\":[[600000.0],[700000.0],[null],[100000.0],[5500000.0],[200000.0],[200000.0],[1600000.0],[500000.0],[100000.0],[300000.0],[1400000.0],[200000.0],[600000.0],[null],[100000.0],[100000.0],[1300000.0],[1300000.0],[300000.0],[1100000.0],[8000000.0],[100000.0],[600.0],[2000000.0],[100000.0],[200000.0],[900000.0],[null],[500000.0],[100000.0],[null],[700000.0]],\"geo\":\"geo\",\"hovertemplate\":\"\\u003cb\\u003e%{hovertext}\\u003c\\u002fb\\u003e\\u003cbr\\u003e\\u003cbr\\u003echannel_type=Entertainment\\u003cbr\\u003eLatitude=%{lat}\\u003cbr\\u003eLongitude=%{lon}\\u003cbr\\u003esubscribers_for_last_30_days=%{customdata[0]}\\u003cextra\\u003e\\u003c\\u002fextra\\u003e\",\"hovertext\":[\"Argentina\",\"Brazil\",\"Peru\",\"Ecuador\",\"Indonesia\",\"Singapore\",\"Malaysia\",\"Colombia\",\"Philippines\",\"Vietnam\",\"Thailand\",\"India\",\"United Arab Emirates\",\"Mexico\",\"Bangladesh\",\"Saudi Arabia\",\"Egypt\",\"Kuwait\",\"Pakistan\",\"South Korea\",\"Japan\",\"United States\",\"Turkey\",\"Spain\",\"Italy\",\"France\",\"Ukraine\",\"Germany\",\"Netherlands\",\"United Kingdom\",\"Canada\",\"Sweden\",\"Russia\"],\"lat\":[-38.416097,-14.235004,-9.189967,-1.831239,-0.789275,1.352083,4.210484,4.570868,12.879721,14.058324,15.870032,20.593684,23.424076,23.634501,23.684994,23.885942,26.820553,29.31166,30.375321,35.907757,36.204824,37.09024,38.963745,40.463667,41.87194,46.227638,48.379433,51.165691,52.132633,55.378051,56.130366,60.128161,61.52401],\"legendgroup\":\"Entertainment\",\"lon\":[-63.616672,-51.92528,-75.015152,-78.183406,113.921327,103.819836,101.975766,-74.297333,121.774017,108.277199,100.992541,78.96288,53.847818,-102.552784,90.356331,45.079162,30.802498,47.481766,69.345116,127.766922,138.252924,-95.712891,35.243322,-3.74922,12.56738,2.213749,31.16558,10.451526,5.291266,-3.435973,-106.346771,18.643501,105.318756],\"marker\":{\"color\":\"#00cc96\",\"opacity\":0.8,\"symbol\":\"circle\"},\"mode\":\"markers\",\"name\":\"Entertainment\",\"showlegend\":true,\"type\":\"scattergeo\"},{\"customdata\":[[1900000.0],[500000.0],[null],[1000000.0],[300000.0],[200000.0],[200000.0],[null],[500000.0],[200000.0],[500000.0],[12.0],[1000000.0],[800000.0],[2100000.0],[800000.0],[3580.0],[200000.0],[600000.0],[1.0],[100000.0],[200000.0],[null]],\"geo\":\"geo\",\"hovertemplate\":\"\\u003cb\\u003e%{hovertext}\\u003c\\u002fb\\u003e\\u003cbr\\u003e\\u003cbr\\u003echannel_type=Games\\u003cbr\\u003eLatitude=%{lat}\\u003cbr\\u003eLongitude=%{lon}\\u003cbr\\u003esubscribers_for_last_30_days=%{customdata[0]}\\u003cextra\\u003e\\u003c\\u002fextra\\u003e\",\"hovertext\":[\"Argentina\",\"Chile\",\"Australia\",\"Brazil\",\"Ecuador\",\"Indonesia\",\"El Salvador\",\"Thailand\",\"India\",\"Mexico\",\"Saudi Arabia\",\"Afghanistan\",\"South Korea\",\"United States\",\"Turkey\",\"Spain\",\"Germany\",\"Netherlands\",\"United Kingdom\",\"Canada\",\"Sweden\",\"Russia\",\"Finland\"],\"lat\":[-38.416097,-35.675147,-25.274398,-14.235004,-1.831239,-0.789275,13.794185,15.870032,20.593684,23.634501,23.885942,33.93911,35.907757,37.09024,38.963745,40.463667,51.165691,52.132633,55.378051,56.130366,60.128161,61.52401,61.92411],\"legendgroup\":\"Games\",\"lon\":[-63.616672,-71.542969,133.775136,-51.92528,-78.183406,113.921327,-88.89653,100.992541,78.96288,-102.552784,45.079162,67.709953,127.766922,-95.712891,35.243322,-3.74922,10.451526,5.291266,-3.435973,-106.346771,18.643501,105.318756,25.748151],\"marker\":{\"color\":\"#ab63fa\",\"opacity\":0.8,\"symbol\":\"circle\"},\"mode\":\"markers\",\"name\":\"Games\",\"showlegend\":true,\"type\":\"scattergeo\"},{\"customdata\":[[600000.0],[null],[100000.0],[3.0],[300000.0],[null],[100000.0],[100000.0],[2000000.0],[100000.0],[200000.0],[300000.0],[null],[null],[900000.0],[800000.0],[200000.0],[100000.0],[100000.0],[100000.0],[100000.0],[200000.0],[null]],\"geo\":\"geo\",\"hovertemplate\":\"\\u003cb\\u003e%{hovertext}\\u003c\\u002fb\\u003e\\u003cbr\\u003e\\u003cbr\\u003echannel_type=Music\\u003cbr\\u003eLatitude=%{lat}\\u003cbr\\u003eLongitude=%{lon}\\u003cbr\\u003esubscribers_for_last_30_days=%{customdata[0]}\\u003cextra\\u003e\\u003c\\u002fextra\\u003e\",\"hovertext\":[\"Argentina\",\"Australia\",\"Brazil\",\"Samoa\",\"Colombia\",\"Philippines\",\"Barbados\",\"Thailand\",\"India\",\"Mexico\",\"Saudi Arabia\",\"Jordan\",\"Morocco\",\"Iraq\",\"South Korea\",\"United States\",\"Turkey\",\"Spain\",\"France\",\"Netherlands\",\"United Kingdom\",\"Canada\",\"Sweden\"],\"lat\":[-38.416097,-25.274398,-14.235004,-13.759029,4.570868,12.879721,13.193887,15.870032,20.593684,23.634501,23.885942,30.585164,31.791702,33.223191,35.907757,37.09024,38.963745,40.463667,46.227638,52.132633,55.378051,56.130366,60.128161],\"legendgroup\":\"Music\",\"lon\":[-63.616672,133.775136,-51.92528,-172.104629,-74.297333,121.774017,-59.543198,100.992541,78.96288,-102.552784,45.079162,36.238414,-7.09262,43.679291,127.766922,-95.712891,35.243322,-3.74922,2.213749,5.291266,-3.435973,-106.346771,18.643501],\"marker\":{\"color\":\"#FFA15A\",\"opacity\":0.8,\"symbol\":\"circle\"},\"mode\":\"markers\",\"name\":\"Music\",\"showlegend\":true,\"type\":\"scattergeo\"},{\"customdata\":[[null],[4.0],[1.0],[100000.0],[1600000.0],[800.0],[1500000.0],[100000.0],[1600000.0],[10.0],[3400000.0],[400000.0],[8.0],[3200000.0],[1700000.0],[100000.0],[1600000.0]],\"geo\":\"geo\",\"hovertemplate\":\"\\u003cb\\u003e%{hovertext}\\u003c\\u002fb\\u003e\\u003cbr\\u003e\\u003cbr\\u003echannel_type=People\\u003cbr\\u003eLatitude=%{lat}\\u003cbr\\u003eLongitude=%{lon}\\u003cbr\\u003esubscribers_for_last_30_days=%{customdata[0]}\\u003cextra\\u003e\\u003c\\u002fextra\\u003e\",\"hovertext\":[\"Argentina\",\"Chile\",\"Australia\",\"Brazil\",\"Indonesia\",\"Singapore\",\"Colombia\",\"Philippines\",\"India\",\"Cuba\",\"United Arab Emirates\",\"Mexico\",\"Pakistan\",\"South Korea\",\"United States\",\"Ukraine\",\"Russia\"],\"lat\":[-38.416097,-35.675147,-25.274398,-14.235004,-0.789275,1.352083,4.570868,12.879721,20.593684,21.521757,23.424076,23.634501,30.375321,35.907757,37.09024,48.379433,61.52401],\"legendgroup\":\"People\",\"lon\":[-63.616672,-71.542969,133.775136,-51.92528,113.921327,103.819836,-74.297333,121.774017,78.96288,-77.781167,53.847818,-102.552784,69.345116,127.766922,-95.712891,31.16558,105.318756],\"marker\":{\"color\":\"#19d3f3\",\"opacity\":0.8,\"symbol\":\"circle\"},\"mode\":\"markers\",\"name\":\"People\",\"showlegend\":true,\"type\":\"scattergeo\"},{\"customdata\":[[null],[null],[null],[500000.0],[400000.0],[200000.0],[100000.0],[100000.0],[100000.0],[null]],\"geo\":\"geo\",\"hovertemplate\":\"\\u003cb\\u003e%{hovertext}\\u003c\\u002fb\\u003e\\u003cbr\\u003e\\u003cbr\\u003echannel_type=Howto\\u003cbr\\u003eLatitude=%{lat}\\u003cbr\\u003eLongitude=%{lon}\\u003cbr\\u003esubscribers_for_last_30_days=%{customdata[0]}\\u003cextra\\u003e\\u003c\\u002fextra\\u003e\",\"hovertext\":[\"Australia\",\"Brazil\",\"Indonesia\",\"Colombia\",\"India\",\"Mexico\",\"Egypt\",\"China\",\"United States\",\"Ukraine\"],\"lat\":[-25.274398,-14.235004,-0.789275,4.570868,20.593684,23.634501,26.820553,35.86166,37.09024,48.379433],\"legendgroup\":\"Howto\",\"lon\":[133.775136,-51.92528,113.921327,-74.297333,78.96288,-102.552784,30.802498,104.195397,-95.712891,31.16558],\"marker\":{\"color\":\"#FF6692\",\"opacity\":0.8,\"symbol\":\"circle\"},\"mode\":\"markers\",\"name\":\"Howto\",\"showlegend\":true,\"type\":\"scattergeo\"},{\"customdata\":[[600000.0],[600000.0],[200000.0],[100000.0],[null],[3000000.0]],\"geo\":\"geo\",\"hovertemplate\":\"\\u003cb\\u003e%{hovertext}\\u003c\\u002fb\\u003e\\u003cbr\\u003e\\u003cbr\\u003echannel_type=Sports\\u003cbr\\u003eLatitude=%{lat}\\u003cbr\\u003eLongitude=%{lon}\\u003cbr\\u003esubscribers_for_last_30_days=%{customdata[0]}\\u003cextra\\u003e\\u003c\\u002fextra\\u003e\",\"hovertext\":[\"Australia\",\"United States\",\"Spain\",\"Switzerland\",\"United Kingdom\",\"Sweden\"],\"lat\":[-25.274398,37.09024,40.463667,46.818188,55.378051,60.128161],\"legendgroup\":\"Sports\",\"lon\":[133.775136,-95.712891,-3.74922,8.227512,-3.435973,18.643501],\"marker\":{\"color\":\"#B6E880\",\"opacity\":0.8,\"symbol\":\"circle\"},\"mode\":\"markers\",\"name\":\"Sports\",\"showlegend\":true,\"type\":\"scattergeo\"},{\"customdata\":[[200000.0],[200000.0],[null],[1300000.0],[200000.0],[300000.0],[1000000.0],[100000.0],[700000.0]],\"geo\":\"geo\",\"hovertemplate\":\"\\u003cb\\u003e%{hovertext}\\u003c\\u002fb\\u003e\\u003cbr\\u003e\\u003cbr\\u003echannel_type=Film\\u003cbr\\u003eLatitude=%{lat}\\u003cbr\\u003eLongitude=%{lon}\\u003cbr\\u003esubscribers_for_last_30_days=%{customdata[0]}\\u003cextra\\u003e\\u003c\\u002fextra\\u003e\",\"hovertext\":[\"Brazil\",\"Vietnam\",\"Thailand\",\"India\",\"Mexico\",\"Saudi Arabia\",\"United States\",\"United Kingdom\",\"Russia\"],\"lat\":[-14.235004,14.058324,15.870032,20.593684,23.634501,23.885942,37.09024,55.378051,61.52401],\"legendgroup\":\"Film\",\"lon\":[-51.92528,108.277199,100.992541,78.96288,-102.552784,45.079162,-95.712891,-3.435973,105.318756],\"marker\":{\"color\":\"#FF97FF\",\"opacity\":0.8,\"symbol\":\"circle\"},\"mode\":\"markers\",\"name\":\"Film\",\"showlegend\":true,\"type\":\"scattergeo\"},{\"customdata\":[[400000.0],[100000.0]],\"geo\":\"geo\",\"hovertemplate\":\"\\u003cb\\u003e%{hovertext}\\u003c\\u002fb\\u003e\\u003cbr\\u003e\\u003cbr\\u003echannel_type=Nonprofit\\u003cbr\\u003eLatitude=%{lat}\\u003cbr\\u003eLongitude=%{lon}\\u003cbr\\u003esubscribers_for_last_30_days=%{customdata[0]}\\u003cextra\\u003e\\u003c\\u002fextra\\u003e\",\"hovertext\":[\"Brazil\",\"United States\"],\"lat\":[-14.235004,37.09024],\"legendgroup\":\"Nonprofit\",\"lon\":[-51.92528,-95.712891],\"marker\":{\"color\":\"#FECB52\",\"opacity\":0.8,\"symbol\":\"circle\"},\"mode\":\"markers\",\"name\":\"Nonprofit\",\"showlegend\":true,\"type\":\"scattergeo\"},{\"customdata\":[[100000.0],[500000.0],[200000.0],[null],[400000.0],[100000.0]],\"geo\":\"geo\",\"hovertemplate\":\"\\u003cb\\u003e%{hovertext}\\u003c\\u002fb\\u003e\\u003cbr\\u003e\\u003cbr\\u003echannel_type=Tech\\u003cbr\\u003eLatitude=%{lat}\\u003cbr\\u003eLongitude=%{lon}\\u003cbr\\u003esubscribers_for_last_30_days=%{customdata[0]}\\u003cextra\\u003e\\u003c\\u002fextra\\u003e\",\"hovertext\":[\"Brazil\",\"India\",\"United States\",\"Germany\",\"United Kingdom\",\"Canada\"],\"lat\":[-14.235004,20.593684,37.09024,51.165691,55.378051,56.130366],\"legendgroup\":\"Tech\",\"lon\":[-51.92528,78.96288,-95.712891,10.451526,-3.435973,-106.346771],\"marker\":{\"color\":\"#636efa\",\"opacity\":0.8,\"symbol\":\"circle\"},\"mode\":\"markers\",\"name\":\"Tech\",\"showlegend\":true,\"type\":\"scattergeo\"},{\"customdata\":[[100000.0],[300000.0],[200000.0],[700000.0],[100000.0],[100000.0],[100000.0],[230000.0],[100000.0],[null]],\"geo\":\"geo\",\"hovertemplate\":\"\\u003cb\\u003e%{hovertext}\\u003c\\u002fb\\u003e\\u003cbr\\u003e\\u003cbr\\u003echannel_type=News\\u003cbr\\u003eLatitude=%{lat}\\u003cbr\\u003eLongitude=%{lon}\\u003cbr\\u003esubscribers_for_last_30_days=%{customdata[0]}\\u003cextra\\u003e\\u003c\\u002fextra\\u003e\",\"hovertext\":[\"Indonesia\",\"Philippines\",\"Thailand\",\"India\",\"United Arab Emirates\",\"Pakistan\",\"United States\",\"Ukraine\",\"United Kingdom\",\"Russia\"],\"lat\":[-0.789275,12.879721,15.870032,20.593684,23.424076,30.375321,37.09024,48.379433,55.378051,61.52401],\"legendgroup\":\"News\",\"lon\":[113.921327,121.774017,100.992541,78.96288,53.847818,69.345116,-95.712891,31.16558,-3.435973,105.318756],\"marker\":{\"color\":\"#EF553B\",\"opacity\":0.8,\"symbol\":\"circle\"},\"mode\":\"markers\",\"name\":\"News\",\"showlegend\":true,\"type\":\"scattergeo\"},{\"customdata\":[[500000.0],[9.0]],\"geo\":\"geo\",\"hovertemplate\":\"\\u003cb\\u003e%{hovertext}\\u003c\\u002fb\\u003e\\u003cbr\\u003e\\u003cbr\\u003echannel_type=Autos\\u003cbr\\u003eLatitude=%{lat}\\u003cbr\\u003eLongitude=%{lon}\\u003cbr\\u003esubscribers_for_last_30_days=%{customdata[0]}\\u003cextra\\u003e\\u003c\\u002fextra\\u003e\",\"hovertext\":[\"United Arab Emirates\",\"Japan\"],\"lat\":[23.424076,36.204824],\"legendgroup\":\"Autos\",\"lon\":[53.847818,138.252924],\"marker\":{\"color\":\"#00cc96\",\"opacity\":0.8,\"symbol\":\"circle\"},\"mode\":\"markers\",\"name\":\"Autos\",\"showlegend\":true,\"type\":\"scattergeo\"},{\"customdata\":[[1100000.0]],\"geo\":\"geo\",\"hovertemplate\":\"\\u003cb\\u003e%{hovertext}\\u003c\\u002fb\\u003e\\u003cbr\\u003e\\u003cbr\\u003echannel_type=Animals\\u003cbr\\u003eLatitude=%{lat}\\u003cbr\\u003eLongitude=%{lon}\\u003cbr\\u003esubscribers_for_last_30_days=%{customdata[0]}\\u003cextra\\u003e\\u003c\\u002fextra\\u003e\",\"hovertext\":[\"United States\"],\"lat\":[37.09024],\"legendgroup\":\"Animals\",\"lon\":[-95.712891],\"marker\":{\"color\":\"#ab63fa\",\"opacity\":0.8,\"symbol\":\"circle\"},\"mode\":\"markers\",\"name\":\"Animals\",\"showlegend\":true,\"type\":\"scattergeo\"}],                        {\"template\":{\"data\":{\"histogram2dcontour\":[{\"type\":\"histogram2dcontour\",\"colorbar\":{\"outlinewidth\":0,\"ticks\":\"\"},\"colorscale\":[[0.0,\"#0d0887\"],[0.1111111111111111,\"#46039f\"],[0.2222222222222222,\"#7201a8\"],[0.3333333333333333,\"#9c179e\"],[0.4444444444444444,\"#bd3786\"],[0.5555555555555556,\"#d8576b\"],[0.6666666666666666,\"#ed7953\"],[0.7777777777777778,\"#fb9f3a\"],[0.8888888888888888,\"#fdca26\"],[1.0,\"#f0f921\"]]}],\"choropleth\":[{\"type\":\"choropleth\",\"colorbar\":{\"outlinewidth\":0,\"ticks\":\"\"}}],\"histogram2d\":[{\"type\":\"histogram2d\",\"colorbar\":{\"outlinewidth\":0,\"ticks\":\"\"},\"colorscale\":[[0.0,\"#0d0887\"],[0.1111111111111111,\"#46039f\"],[0.2222222222222222,\"#7201a8\"],[0.3333333333333333,\"#9c179e\"],[0.4444444444444444,\"#bd3786\"],[0.5555555555555556,\"#d8576b\"],[0.6666666666666666,\"#ed7953\"],[0.7777777777777778,\"#fb9f3a\"],[0.8888888888888888,\"#fdca26\"],[1.0,\"#f0f921\"]]}],\"heatmap\":[{\"type\":\"heatmap\",\"colorbar\":{\"outlinewidth\":0,\"ticks\":\"\"},\"colorscale\":[[0.0,\"#0d0887\"],[0.1111111111111111,\"#46039f\"],[0.2222222222222222,\"#7201a8\"],[0.3333333333333333,\"#9c179e\"],[0.4444444444444444,\"#bd3786\"],[0.5555555555555556,\"#d8576b\"],[0.6666666666666666,\"#ed7953\"],[0.7777777777777778,\"#fb9f3a\"],[0.8888888888888888,\"#fdca26\"],[1.0,\"#f0f921\"]]}],\"heatmapgl\":[{\"type\":\"heatmapgl\",\"colorbar\":{\"outlinewidth\":0,\"ticks\":\"\"},\"colorscale\":[[0.0,\"#0d0887\"],[0.1111111111111111,\"#46039f\"],[0.2222222222222222,\"#7201a8\"],[0.3333333333333333,\"#9c179e\"],[0.4444444444444444,\"#bd3786\"],[0.5555555555555556,\"#d8576b\"],[0.6666666666666666,\"#ed7953\"],[0.7777777777777778,\"#fb9f3a\"],[0.8888888888888888,\"#fdca26\"],[1.0,\"#f0f921\"]]}],\"contourcarpet\":[{\"type\":\"contourcarpet\",\"colorbar\":{\"outlinewidth\":0,\"ticks\":\"\"}}],\"contour\":[{\"type\":\"contour\",\"colorbar\":{\"outlinewidth\":0,\"ticks\":\"\"},\"colorscale\":[[0.0,\"#0d0887\"],[0.1111111111111111,\"#46039f\"],[0.2222222222222222,\"#7201a8\"],[0.3333333333333333,\"#9c179e\"],[0.4444444444444444,\"#bd3786\"],[0.5555555555555556,\"#d8576b\"],[0.6666666666666666,\"#ed7953\"],[0.7777777777777778,\"#fb9f3a\"],[0.8888888888888888,\"#fdca26\"],[1.0,\"#f0f921\"]]}],\"surface\":[{\"type\":\"surface\",\"colorbar\":{\"outlinewidth\":0,\"ticks\":\"\"},\"colorscale\":[[0.0,\"#0d0887\"],[0.1111111111111111,\"#46039f\"],[0.2222222222222222,\"#7201a8\"],[0.3333333333333333,\"#9c179e\"],[0.4444444444444444,\"#bd3786\"],[0.5555555555555556,\"#d8576b\"],[0.6666666666666666,\"#ed7953\"],[0.7777777777777778,\"#fb9f3a\"],[0.8888888888888888,\"#fdca26\"],[1.0,\"#f0f921\"]]}],\"mesh3d\":[{\"type\":\"mesh3d\",\"colorbar\":{\"outlinewidth\":0,\"ticks\":\"\"}}],\"scatter\":[{\"fillpattern\":{\"fillmode\":\"overlay\",\"size\":10,\"solidity\":0.2},\"type\":\"scatter\"}],\"parcoords\":[{\"type\":\"parcoords\",\"line\":{\"colorbar\":{\"outlinewidth\":0,\"ticks\":\"\"}}}],\"scatterpolargl\":[{\"type\":\"scatterpolargl\",\"marker\":{\"colorbar\":{\"outlinewidth\":0,\"ticks\":\"\"}}}],\"bar\":[{\"error_x\":{\"color\":\"#2a3f5f\"},\"error_y\":{\"color\":\"#2a3f5f\"},\"marker\":{\"line\":{\"color\":\"#E5ECF6\",\"width\":0.5},\"pattern\":{\"fillmode\":\"overlay\",\"size\":10,\"solidity\":0.2}},\"type\":\"bar\"}],\"scattergeo\":[{\"type\":\"scattergeo\",\"marker\":{\"colorbar\":{\"outlinewidth\":0,\"ticks\":\"\"}}}],\"scatterpolar\":[{\"type\":\"scatterpolar\",\"marker\":{\"colorbar\":{\"outlinewidth\":0,\"ticks\":\"\"}}}],\"histogram\":[{\"marker\":{\"pattern\":{\"fillmode\":\"overlay\",\"size\":10,\"solidity\":0.2}},\"type\":\"histogram\"}],\"scattergl\":[{\"type\":\"scattergl\",\"marker\":{\"colorbar\":{\"outlinewidth\":0,\"ticks\":\"\"}}}],\"scatter3d\":[{\"type\":\"scatter3d\",\"line\":{\"colorbar\":{\"outlinewidth\":0,\"ticks\":\"\"}},\"marker\":{\"colorbar\":{\"outlinewidth\":0,\"ticks\":\"\"}}}],\"scattermapbox\":[{\"type\":\"scattermapbox\",\"marker\":{\"colorbar\":{\"outlinewidth\":0,\"ticks\":\"\"}}}],\"scatterternary\":[{\"type\":\"scatterternary\",\"marker\":{\"colorbar\":{\"outlinewidth\":0,\"ticks\":\"\"}}}],\"scattercarpet\":[{\"type\":\"scattercarpet\",\"marker\":{\"colorbar\":{\"outlinewidth\":0,\"ticks\":\"\"}}}],\"carpet\":[{\"aaxis\":{\"endlinecolor\":\"#2a3f5f\",\"gridcolor\":\"white\",\"linecolor\":\"white\",\"minorgridcolor\":\"white\",\"startlinecolor\":\"#2a3f5f\"},\"baxis\":{\"endlinecolor\":\"#2a3f5f\",\"gridcolor\":\"white\",\"linecolor\":\"white\",\"minorgridcolor\":\"white\",\"startlinecolor\":\"#2a3f5f\"},\"type\":\"carpet\"}],\"table\":[{\"cells\":{\"fill\":{\"color\":\"#EBF0F8\"},\"line\":{\"color\":\"white\"}},\"header\":{\"fill\":{\"color\":\"#C8D4E3\"},\"line\":{\"color\":\"white\"}},\"type\":\"table\"}],\"barpolar\":[{\"marker\":{\"line\":{\"color\":\"#E5ECF6\",\"width\":0.5},\"pattern\":{\"fillmode\":\"overlay\",\"size\":10,\"solidity\":0.2}},\"type\":\"barpolar\"}],\"pie\":[{\"automargin\":true,\"type\":\"pie\"}]},\"layout\":{\"autotypenumbers\":\"strict\",\"colorway\":[\"#636efa\",\"#EF553B\",\"#00cc96\",\"#ab63fa\",\"#FFA15A\",\"#19d3f3\",\"#FF6692\",\"#B6E880\",\"#FF97FF\",\"#FECB52\"],\"font\":{\"color\":\"#2a3f5f\"},\"hovermode\":\"closest\",\"hoverlabel\":{\"align\":\"left\"},\"paper_bgcolor\":\"white\",\"plot_bgcolor\":\"#E5ECF6\",\"polar\":{\"bgcolor\":\"#E5ECF6\",\"angularaxis\":{\"gridcolor\":\"white\",\"linecolor\":\"white\",\"ticks\":\"\"},\"radialaxis\":{\"gridcolor\":\"white\",\"linecolor\":\"white\",\"ticks\":\"\"}},\"ternary\":{\"bgcolor\":\"#E5ECF6\",\"aaxis\":{\"gridcolor\":\"white\",\"linecolor\":\"white\",\"ticks\":\"\"},\"baxis\":{\"gridcolor\":\"white\",\"linecolor\":\"white\",\"ticks\":\"\"},\"caxis\":{\"gridcolor\":\"white\",\"linecolor\":\"white\",\"ticks\":\"\"}},\"coloraxis\":{\"colorbar\":{\"outlinewidth\":0,\"ticks\":\"\"}},\"colorscale\":{\"sequential\":[[0.0,\"#0d0887\"],[0.1111111111111111,\"#46039f\"],[0.2222222222222222,\"#7201a8\"],[0.3333333333333333,\"#9c179e\"],[0.4444444444444444,\"#bd3786\"],[0.5555555555555556,\"#d8576b\"],[0.6666666666666666,\"#ed7953\"],[0.7777777777777778,\"#fb9f3a\"],[0.8888888888888888,\"#fdca26\"],[1.0,\"#f0f921\"]],\"sequentialminus\":[[0.0,\"#0d0887\"],[0.1111111111111111,\"#46039f\"],[0.2222222222222222,\"#7201a8\"],[0.3333333333333333,\"#9c179e\"],[0.4444444444444444,\"#bd3786\"],[0.5555555555555556,\"#d8576b\"],[0.6666666666666666,\"#ed7953\"],[0.7777777777777778,\"#fb9f3a\"],[0.8888888888888888,\"#fdca26\"],[1.0,\"#f0f921\"]],\"diverging\":[[0,\"#8e0152\"],[0.1,\"#c51b7d\"],[0.2,\"#de77ae\"],[0.3,\"#f1b6da\"],[0.4,\"#fde0ef\"],[0.5,\"#f7f7f7\"],[0.6,\"#e6f5d0\"],[0.7,\"#b8e186\"],[0.8,\"#7fbc41\"],[0.9,\"#4d9221\"],[1,\"#276419\"]]},\"xaxis\":{\"gridcolor\":\"white\",\"linecolor\":\"white\",\"ticks\":\"\",\"title\":{\"standoff\":15},\"zerolinecolor\":\"white\",\"automargin\":true,\"zerolinewidth\":2},\"yaxis\":{\"gridcolor\":\"white\",\"linecolor\":\"white\",\"ticks\":\"\",\"title\":{\"standoff\":15},\"zerolinecolor\":\"white\",\"automargin\":true,\"zerolinewidth\":2},\"scene\":{\"xaxis\":{\"backgroundcolor\":\"#E5ECF6\",\"gridcolor\":\"white\",\"linecolor\":\"white\",\"showbackground\":true,\"ticks\":\"\",\"zerolinecolor\":\"white\",\"gridwidth\":2},\"yaxis\":{\"backgroundcolor\":\"#E5ECF6\",\"gridcolor\":\"white\",\"linecolor\":\"white\",\"showbackground\":true,\"ticks\":\"\",\"zerolinecolor\":\"white\",\"gridwidth\":2},\"zaxis\":{\"backgroundcolor\":\"#E5ECF6\",\"gridcolor\":\"white\",\"linecolor\":\"white\",\"showbackground\":true,\"ticks\":\"\",\"zerolinecolor\":\"white\",\"gridwidth\":2}},\"shapedefaults\":{\"line\":{\"color\":\"#2a3f5f\"}},\"annotationdefaults\":{\"arrowcolor\":\"#2a3f5f\",\"arrowhead\":0,\"arrowwidth\":1},\"geo\":{\"bgcolor\":\"white\",\"landcolor\":\"#E5ECF6\",\"subunitcolor\":\"white\",\"showland\":true,\"showlakes\":true,\"lakecolor\":\"white\"},\"title\":{\"x\":0.05},\"mapbox\":{\"style\":\"light\"}}},\"geo\":{\"domain\":{\"x\":[0.0,1.0],\"y\":[0.0,1.0]},\"projection\":{\"type\":\"orthographic\"},\"center\":{}},\"legend\":{\"title\":{\"text\":\"channel_type\"},\"tracegroupgap\":0},\"margin\":{\"t\":60}},                        {\"responsive\": true}                    ).then(function(){\n",
       "                            \n",
       "var gd = document.getElementById('46f21062-ae30-47b1-8444-889f299ef55c');\n",
       "var x = new MutationObserver(function (mutations, observer) {{\n",
       "        var display = window.getComputedStyle(gd).display;\n",
       "        if (!display || display === 'none') {{\n",
       "            console.log([gd, 'removed!']);\n",
       "            Plotly.purge(gd);\n",
       "            observer.disconnect();\n",
       "        }}\n",
       "}});\n",
       "\n",
       "// Listen for the removal of the full notebook cells\n",
       "var notebookContainer = gd.closest('#notebook-container');\n",
       "if (notebookContainer) {{\n",
       "    x.observe(notebookContainer, {childList: true});\n",
       "}}\n",
       "\n",
       "// Listen for the clearing of the current output cell\n",
       "var outputEl = gd.closest('.output');\n",
       "if (outputEl) {{\n",
       "    x.observe(outputEl, {childList: true});\n",
       "}}\n",
       "\n",
       "                        })                };                });            </script>        </div>"
      ]
     },
     "metadata": {},
     "output_type": "display_data"
    }
   ],
   "source": [
    "# Create the scatter_geo plot\n",
    "map_fig = px.scatter_geo(df1,\n",
    "                         lat = 'Latitude',\n",
    "                         lon= 'Longitude',\n",
    "                         projection='orthographic',\n",
    "                         color='channel_type',\n",
    "                         opacity=0.8,\n",
    "                         hover_name='Country',\n",
    "                         hover_data=['subscribers_for_last_30_days'])\n",
    "\n",
    "map_fig.show()"
   ]
  },
  {
   "cell_type": "markdown",
   "id": "27dbea19",
   "metadata": {},
   "source": [
    "###  Total Subscribers per Month"
   ]
  },
  {
   "cell_type": "code",
   "execution_count": 78,
   "id": "7a38a3a8",
   "metadata": {},
   "outputs": [
    {
     "data": {
      "text/plain": [
       "created_month\n",
       "Jan    2218300000\n",
       "Feb    1533800000\n",
       "Mar    2320500000\n",
       "Apr    1581200000\n",
       "May    1997700000\n",
       "Jun    1846400000\n",
       "Jul    1922300000\n",
       "Aug    1813600000\n",
       "Sep    2496200000\n",
       "Oct    1503700000\n",
       "Nov    1930200000\n",
       "Dec    1577300000\n",
       "Name: subscribers, dtype: int64"
      ]
     },
     "execution_count": 78,
     "metadata": {},
     "output_type": "execute_result"
    }
   ],
   "source": [
    "# Define the custom order of months\n",
    "custom_order = ['Jan', 'Feb', 'Mar', 'Apr', 'May', 'Jun', 'Jul', 'Aug', 'Sep', 'Oct', 'Nov', 'Dec']\n",
    "\n",
    "\n",
    "month_created_by_sum_subscribers = df.groupby('created_month')['subscribers'].sum().reindex(custom_order)\n",
    "\n",
    "\n",
    "month_created_by_sum_subscribers"
   ]
  },
  {
   "cell_type": "code",
   "execution_count": 109,
   "id": "9a17a77c",
   "metadata": {},
   "outputs": [
    {
     "data": {
      "image/png": "[encoded data removed]",
      "text/plain": [
       "<Figure size 1440x720 with 1 Axes>"
      ]
     },
     "metadata": {
      "needs_background": "light"
     },
     "output_type": "display_data"
    }
   ],
   "source": [
    "plt.figure(figsize = (20, 10))\n",
    "p = month_created_by_sum_subscribers.plot(kind = 'bar', color = '#00B4DF') \n",
    "\n",
    "\n",
    "plt.xlabel('Month', fontsize = 15)\n",
    "plt.xticks(rotation=45, horizontalalignment='right')\n",
    "plt.ylabel('Sum of Subscribers', fontsize = 15)\n",
    "plt.title('Subscribers Accumulation by Month', fontsize = 25)\n",
    "\n",
    "\n",
    "for b in p.patches:\n",
    "    p.annotate(str(round(b.get_height() / 1e7, 1)) + 'M',\n",
    "    (b.get_x() + b.get_width() / 2., b.get_height() + 1.2e6),\n",
    "    ha='center', va='bottom', rotation='0',\n",
    "    xytext=(0, 12),  # Adjusted to move the labels above the bars\n",
    "    textcoords='offset points')\n",
    "\n",
    "\n",
    "    \n",
    "plt.show()"
   ]
  },
  {
   "cell_type": "markdown",
   "id": "3edcb496",
   "metadata": {},
   "source": [
    "### Standard Deviation of Video Views per Category"
   ]
  },
  {
   "cell_type": "code",
   "execution_count": 80,
   "id": "e6a41775",
   "metadata": {},
   "outputs": [
    {
     "data": {
      "text/plain": [
       "category\n",
       "Trailers                 1382496086\n",
       "Nonprofits & Activism    2698145850\n",
       "Science & Technology     2937981619\n",
       "Autos & Vehicles         2964425984\n",
       "Movies                   3353301875\n",
       "Howto & Style            4300326961\n",
       "News & Politics          5043144239\n",
       "Gaming                   5835933598\n",
       "Comedy                   6406251669\n",
       "Pets & Animals           6475165093\n",
       "Entertainment           10128204611\n",
       "Film & Animation        10899550881\n",
       "People & Blogs          12510420847\n",
       "Music                   17782784424\n",
       "Sports                  21703831459\n",
       "Education               25572139026\n",
       "Shows                   43723894662\n",
       "Travel & Events                 NaN\n",
       "Name: video views, dtype: float64"
      ]
     },
     "execution_count": 80,
     "metadata": {},
     "output_type": "execute_result"
    }
   ],
   "source": [
    "category_video_views_std = df.groupby('category')['video views'].std().sort_values(ascending =True)\n",
    "category_video_views_std"
   ]
  },
  {
   "cell_type": "code",
   "execution_count": 81,
   "id": "3a847b5f",
   "metadata": {},
   "outputs": [
    {
     "data": {
      "text/plain": [
       "category\n",
       "Travel & Events          3140883140\n",
       "Science & Technology     3939808654\n",
       "Howto & Style            5045438638\n",
       "Nonprofits & Activism    5431455892\n",
       "Autos & Vehicles         7501729070\n",
       "Gaming                   7634456379\n",
       "Movies                   7691627564\n",
       "Comedy                   7972648903\n",
       "People & Blogs           9589327284\n",
       "Entertainment           10488544853\n",
       "News & Politics         10695245376\n",
       "Pets & Animals          11216686475\n",
       "Film & Animation        11835271942\n",
       "Sports                  13453299147\n",
       "Music                   15452858944\n",
       "Education               15480321620\n",
       "Trailers                16631358804\n",
       "Shows                   34323602070\n",
       "Name: video views, dtype: float64"
      ]
     },
     "execution_count": 81,
     "metadata": {},
     "output_type": "execute_result"
    }
   ],
   "source": [
    "category_video_views_mean = df.groupby('category')['video views'].mean().sort_values(ascending =True)\n",
    "category_video_views_mean"
   ]
  },
  {
   "cell_type": "code",
   "execution_count": 82,
   "id": "d49df466",
   "metadata": {},
   "outputs": [
    {
     "data": {
      "image/png": "[encoded data removed]",
      "text/plain": [
       "<Figure size 720x576 with 1 Axes>"
      ]
     },
     "metadata": {
      "needs_background": "light"
     },
     "output_type": "display_data"
    }
   ],
   "source": [
    "# Calculate the difference between standard deviation and mean\n",
    "difference = category_video_views_std - category_video_views_mean\n",
    "\n",
    "plt.figure(figsize=(10, 8))\n",
    "\n",
    "# Create a list of colors based on the sign of differences\n",
    "colors = ['red' if diff < 0 else 'blue' for diff in difference]\n",
    "\n",
    "bars = plt.barh(difference.index, difference.values, color=colors)\n",
    "\n",
    "plt.xlabel('Difference (Standard Deviation - Mean)', fontsize = 15)\n",
    "plt.ylabel('Category', fontsize = 15)\n",
    "plt.title('Difference Between Standard Deviation and Mean by Category',fontsize = 20)\n",
    "\n",
    "plt.grid(axis='x', linestyle='--', alpha=0.6)\n",
    "\n",
    "\n",
    "plt.show()"
   ]
  },
  {
   "cell_type": "markdown",
   "id": "dc0ba27e",
   "metadata": {},
   "source": [
    "### Total Uploads by Channel Type"
   ]
  },
  {
   "cell_type": "code",
   "execution_count": 83,
   "id": "805fac02",
   "metadata": {},
   "outputs": [
    {
     "data": {
      "text/plain": [
       "channel_type\n",
       "News             3989151\n",
       "Entertainment    3344291\n",
       "Music             424950\n",
       "Games             399473\n",
       "Nonprofit         205824\n",
       "Sports            158995\n",
       "Education         146355\n",
       "People            117424\n",
       "Film              114654\n",
       "Comedy             81722\n",
       "Howto              79417\n",
       "Animals            42868\n",
       "Tech               33780\n",
       "Autos                949\n",
       "Name: uploads, dtype: int64"
      ]
     },
     "execution_count": 83,
     "metadata": {},
     "output_type": "execute_result"
    }
   ],
   "source": [
    "channel_type_upload_totals = df.groupby('channel_type')['uploads'].sum().sort_values(ascending = False)\n",
    "channel_type_upload_totals"
   ]
  },
  {
   "cell_type": "code",
   "execution_count": 98,
   "id": "d4902a1a",
   "metadata": {
    "scrolled": false
   },
   "outputs": [
    {
     "data": {
      "image/png": "[encoded data removed]",
      "text/plain": [
       "<Figure size 1440x720 with 1 Axes>"
      ]
     },
     "metadata": {
      "needs_background": "light"
     },
     "output_type": "display_data"
    }
   ],
   "source": [
    "plt.figure(figsize = (20, 10))\n",
    "p = channel_type_upload_totals.plot(kind = 'bar', color = 'g') \n",
    "\n",
    "\n",
    "plt.xlabel('Channel Type', fontsize = 15)\n",
    "plt.xticks(rotation=45, horizontalalignment='right')\n",
    "plt.ylabel('Total Number of Uploads', fontsize = 15)\n",
    "plt.title('Total Uploads by Channel Type', fontsize = 25)\n",
    "\n",
    "\n",
    "for b in p.patches:\n",
    "    p.annotate(str(round(b.get_height() / 1e3, 1)) + 'M',\n",
    "    (b.get_x() + b.get_width() / 2., b.get_height() + 1.2e6),\n",
    "    ha='center', va='top', rotation='0',\n",
    "    xytext=(0, -130),  # Adjusted to move the labels above the bars\n",
    "    textcoords='offset points')\n",
    "\n",
    "\n",
    "    \n",
    "plt.show()"
   ]
  },
  {
   "cell_type": "markdown",
   "id": "21299112",
   "metadata": {},
   "source": [
    "### Mean Subscribers by Created Year and Channel Type"
   ]
  },
  {
   "cell_type": "code",
   "execution_count": 132,
   "id": "f3f89317",
   "metadata": {},
   "outputs": [
    {
     "data": {
      "text/html": [
       "<div>\n",
       "<style scoped>\n",
       "    .dataframe tbody tr th:only-of-type {\n",
       "        vertical-align: middle;\n",
       "    }\n",
       "\n",
       "    .dataframe tbody tr th {\n",
       "        vertical-align: top;\n",
       "    }\n",
       "\n",
       "    .dataframe thead th {\n",
       "        text-align: right;\n",
       "    }\n",
       "</style>\n",
       "<table border=\"1\" class=\"dataframe\">\n",
       "  <thead>\n",
       "    <tr style=\"text-align: right;\">\n",
       "      <th>channel_type</th>\n",
       "      <th>Animals</th>\n",
       "      <th>Autos</th>\n",
       "      <th>Comedy</th>\n",
       "      <th>Education</th>\n",
       "      <th>Entertainment</th>\n",
       "      <th>Film</th>\n",
       "      <th>Games</th>\n",
       "      <th>Howto</th>\n",
       "      <th>Music</th>\n",
       "      <th>News</th>\n",
       "      <th>Nonprofit</th>\n",
       "      <th>People</th>\n",
       "      <th>Sports</th>\n",
       "      <th>Tech</th>\n",
       "    </tr>\n",
       "    <tr>\n",
       "      <th>created_year</th>\n",
       "      <th></th>\n",
       "      <th></th>\n",
       "      <th></th>\n",
       "      <th></th>\n",
       "      <th></th>\n",
       "      <th></th>\n",
       "      <th></th>\n",
       "      <th></th>\n",
       "      <th></th>\n",
       "      <th></th>\n",
       "      <th></th>\n",
       "      <th></th>\n",
       "      <th></th>\n",
       "      <th></th>\n",
       "    </tr>\n",
       "  </thead>\n",
       "  <tbody>\n",
       "    <tr>\n",
       "      <th>2005</th>\n",
       "      <td>NaN</td>\n",
       "      <td>NaN</td>\n",
       "      <td>22650000</td>\n",
       "      <td>NaN</td>\n",
       "      <td>29300000</td>\n",
       "      <td>28100000</td>\n",
       "      <td>14600000</td>\n",
       "      <td>43500000</td>\n",
       "      <td>23644444</td>\n",
       "      <td>15200000</td>\n",
       "      <td>NaN</td>\n",
       "      <td>NaN</td>\n",
       "      <td>33400000</td>\n",
       "      <td>17300000</td>\n",
       "    </tr>\n",
       "    <tr>\n",
       "      <th>2006</th>\n",
       "      <td>NaN</td>\n",
       "      <td>35400000</td>\n",
       "      <td>25260000</td>\n",
       "      <td>72000000</td>\n",
       "      <td>29510714</td>\n",
       "      <td>39380000</td>\n",
       "      <td>38771429</td>\n",
       "      <td>14650000</td>\n",
       "      <td>41910526</td>\n",
       "      <td>17966667</td>\n",
       "      <td>NaN</td>\n",
       "      <td>22050000</td>\n",
       "      <td>16125000</td>\n",
       "      <td>18300000</td>\n",
       "    </tr>\n",
       "    <tr>\n",
       "      <th>2007</th>\n",
       "      <td>NaN</td>\n",
       "      <td>14100000</td>\n",
       "      <td>14460000</td>\n",
       "      <td>NaN</td>\n",
       "      <td>23646667</td>\n",
       "      <td>NaN</td>\n",
       "      <td>18175000</td>\n",
       "      <td>NaN</td>\n",
       "      <td>29470588</td>\n",
       "      <td>18200000</td>\n",
       "      <td>NaN</td>\n",
       "      <td>NaN</td>\n",
       "      <td>96000000</td>\n",
       "      <td>NaN</td>\n",
       "    </tr>\n",
       "    <tr>\n",
       "      <th>2008</th>\n",
       "      <td>NaN</td>\n",
       "      <td>NaN</td>\n",
       "      <td>15000000</td>\n",
       "      <td>33400000</td>\n",
       "      <td>25133333</td>\n",
       "      <td>15000000</td>\n",
       "      <td>20475000</td>\n",
       "      <td>NaN</td>\n",
       "      <td>26226316</td>\n",
       "      <td>15050000</td>\n",
       "      <td>NaN</td>\n",
       "      <td>17366667</td>\n",
       "      <td>NaN</td>\n",
       "      <td>16400000</td>\n",
       "    </tr>\n",
       "    <tr>\n",
       "      <th>2009</th>\n",
       "      <td>NaN</td>\n",
       "      <td>NaN</td>\n",
       "      <td>22600000</td>\n",
       "      <td>17900000</td>\n",
       "      <td>21600000</td>\n",
       "      <td>NaN</td>\n",
       "      <td>18200000</td>\n",
       "      <td>19250000</td>\n",
       "      <td>22648000</td>\n",
       "      <td>27600000</td>\n",
       "      <td>38600000</td>\n",
       "      <td>24300000</td>\n",
       "      <td>38750000</td>\n",
       "      <td>NaN</td>\n",
       "    </tr>\n",
       "    <tr>\n",
       "      <th>2010</th>\n",
       "      <td>NaN</td>\n",
       "      <td>NaN</td>\n",
       "      <td>21800000</td>\n",
       "      <td>14300000</td>\n",
       "      <td>22664286</td>\n",
       "      <td>15500000</td>\n",
       "      <td>25500000</td>\n",
       "      <td>13950000</td>\n",
       "      <td>21247368</td>\n",
       "      <td>16200000</td>\n",
       "      <td>NaN</td>\n",
       "      <td>12600000</td>\n",
       "      <td>12900000</td>\n",
       "      <td>19300000</td>\n",
       "    </tr>\n",
       "    <tr>\n",
       "      <th>2011</th>\n",
       "      <td>NaN</td>\n",
       "      <td>NaN</td>\n",
       "      <td>25300000</td>\n",
       "      <td>30185714</td>\n",
       "      <td>19543478</td>\n",
       "      <td>20200000</td>\n",
       "      <td>24100000</td>\n",
       "      <td>21000000</td>\n",
       "      <td>22300000</td>\n",
       "      <td>NaN</td>\n",
       "      <td>NaN</td>\n",
       "      <td>16650000</td>\n",
       "      <td>13850000</td>\n",
       "      <td>18275000</td>\n",
       "    </tr>\n",
       "    <tr>\n",
       "      <th>2012</th>\n",
       "      <td>NaN</td>\n",
       "      <td>14900000</td>\n",
       "      <td>NaN</td>\n",
       "      <td>13550000</td>\n",
       "      <td>27168182</td>\n",
       "      <td>23700000</td>\n",
       "      <td>20166667</td>\n",
       "      <td>13500000</td>\n",
       "      <td>27270588</td>\n",
       "      <td>37000000</td>\n",
       "      <td>NaN</td>\n",
       "      <td>16533333</td>\n",
       "      <td>NaN</td>\n",
       "      <td>31700000</td>\n",
       "    </tr>\n",
       "    <tr>\n",
       "      <th>2013</th>\n",
       "      <td>NaN</td>\n",
       "      <td>NaN</td>\n",
       "      <td>30433333</td>\n",
       "      <td>34000000</td>\n",
       "      <td>20686364</td>\n",
       "      <td>23850000</td>\n",
       "      <td>24018750</td>\n",
       "      <td>NaN</td>\n",
       "      <td>30050000</td>\n",
       "      <td>17133333</td>\n",
       "      <td>NaN</td>\n",
       "      <td>15400000</td>\n",
       "      <td>NaN</td>\n",
       "      <td>NaN</td>\n",
       "    </tr>\n",
       "    <tr>\n",
       "      <th>2014</th>\n",
       "      <td>17450000</td>\n",
       "      <td>NaN</td>\n",
       "      <td>21780000</td>\n",
       "      <td>22266667</td>\n",
       "      <td>18522222</td>\n",
       "      <td>23662500</td>\n",
       "      <td>19075000</td>\n",
       "      <td>13300000</td>\n",
       "      <td>26873333</td>\n",
       "      <td>17400000</td>\n",
       "      <td>NaN</td>\n",
       "      <td>17916667</td>\n",
       "      <td>NaN</td>\n",
       "      <td>NaN</td>\n",
       "    </tr>\n",
       "    <tr>\n",
       "      <th>2015</th>\n",
       "      <td>NaN</td>\n",
       "      <td>NaN</td>\n",
       "      <td>14350000</td>\n",
       "      <td>21175000</td>\n",
       "      <td>23425000</td>\n",
       "      <td>22125000</td>\n",
       "      <td>19788889</td>\n",
       "      <td>15975000</td>\n",
       "      <td>25000000</td>\n",
       "      <td>25200000</td>\n",
       "      <td>NaN</td>\n",
       "      <td>17157143</td>\n",
       "      <td>NaN</td>\n",
       "      <td>18100000</td>\n",
       "    </tr>\n",
       "    <tr>\n",
       "      <th>2016</th>\n",
       "      <td>NaN</td>\n",
       "      <td>NaN</td>\n",
       "      <td>13950000</td>\n",
       "      <td>21366667</td>\n",
       "      <td>21388889</td>\n",
       "      <td>23900000</td>\n",
       "      <td>15985714</td>\n",
       "      <td>17733333</td>\n",
       "      <td>27861538</td>\n",
       "      <td>26500000</td>\n",
       "      <td>16900000</td>\n",
       "      <td>25933333</td>\n",
       "      <td>NaN</td>\n",
       "      <td>NaN</td>\n",
       "    </tr>\n",
       "    <tr>\n",
       "      <th>2017</th>\n",
       "      <td>NaN</td>\n",
       "      <td>NaN</td>\n",
       "      <td>21766667</td>\n",
       "      <td>21666667</td>\n",
       "      <td>19866667</td>\n",
       "      <td>15300000</td>\n",
       "      <td>14520000</td>\n",
       "      <td>17411111</td>\n",
       "      <td>16966667</td>\n",
       "      <td>19400000</td>\n",
       "      <td>NaN</td>\n",
       "      <td>19638462</td>\n",
       "      <td>NaN</td>\n",
       "      <td>27300000</td>\n",
       "    </tr>\n",
       "    <tr>\n",
       "      <th>2018</th>\n",
       "      <td>NaN</td>\n",
       "      <td>NaN</td>\n",
       "      <td>19300000</td>\n",
       "      <td>19275000</td>\n",
       "      <td>25543750</td>\n",
       "      <td>NaN</td>\n",
       "      <td>25350000</td>\n",
       "      <td>19900000</td>\n",
       "      <td>29960000</td>\n",
       "      <td>14750000</td>\n",
       "      <td>NaN</td>\n",
       "      <td>21557143</td>\n",
       "      <td>NaN</td>\n",
       "      <td>NaN</td>\n",
       "    </tr>\n",
       "    <tr>\n",
       "      <th>2019</th>\n",
       "      <td>NaN</td>\n",
       "      <td>NaN</td>\n",
       "      <td>17700000</td>\n",
       "      <td>22200000</td>\n",
       "      <td>18158333</td>\n",
       "      <td>13550000</td>\n",
       "      <td>13500000</td>\n",
       "      <td>14300000</td>\n",
       "      <td>21166667</td>\n",
       "      <td>NaN</td>\n",
       "      <td>NaN</td>\n",
       "      <td>18685714</td>\n",
       "      <td>NaN</td>\n",
       "      <td>NaN</td>\n",
       "    </tr>\n",
       "    <tr>\n",
       "      <th>2020</th>\n",
       "      <td>23700000</td>\n",
       "      <td>NaN</td>\n",
       "      <td>23533333</td>\n",
       "      <td>12800000</td>\n",
       "      <td>27544444</td>\n",
       "      <td>17033333</td>\n",
       "      <td>12850000</td>\n",
       "      <td>NaN</td>\n",
       "      <td>NaN</td>\n",
       "      <td>34600000</td>\n",
       "      <td>NaN</td>\n",
       "      <td>18037500</td>\n",
       "      <td>16100000</td>\n",
       "      <td>13700000</td>\n",
       "    </tr>\n",
       "    <tr>\n",
       "      <th>2021</th>\n",
       "      <td>NaN</td>\n",
       "      <td>NaN</td>\n",
       "      <td>16950000</td>\n",
       "      <td>NaN</td>\n",
       "      <td>18533333</td>\n",
       "      <td>NaN</td>\n",
       "      <td>39400000</td>\n",
       "      <td>19300000</td>\n",
       "      <td>NaN</td>\n",
       "      <td>NaN</td>\n",
       "      <td>NaN</td>\n",
       "      <td>16455556</td>\n",
       "      <td>NaN</td>\n",
       "      <td>14500000</td>\n",
       "    </tr>\n",
       "    <tr>\n",
       "      <th>2022</th>\n",
       "      <td>NaN</td>\n",
       "      <td>NaN</td>\n",
       "      <td>NaN</td>\n",
       "      <td>13400000</td>\n",
       "      <td>12500000</td>\n",
       "      <td>NaN</td>\n",
       "      <td>NaN</td>\n",
       "      <td>NaN</td>\n",
       "      <td>NaN</td>\n",
       "      <td>NaN</td>\n",
       "      <td>NaN</td>\n",
       "      <td>13100000</td>\n",
       "      <td>NaN</td>\n",
       "      <td>NaN</td>\n",
       "    </tr>\n",
       "  </tbody>\n",
       "</table>\n",
       "</div>"
      ],
      "text/plain": [
       "channel_type  Animals    Autos   Comedy  Education  Entertainment     Film  \\\n",
       "created_year                                                                 \n",
       "2005              NaN      NaN 22650000        NaN       29300000 28100000   \n",
       "2006              NaN 35400000 25260000   72000000       29510714 39380000   \n",
       "2007              NaN 14100000 14460000        NaN       23646667      NaN   \n",
       "2008              NaN      NaN 15000000   33400000       25133333 15000000   \n",
       "2009              NaN      NaN 22600000   17900000       21600000      NaN   \n",
       "2010              NaN      NaN 21800000   14300000       22664286 15500000   \n",
       "2011              NaN      NaN 25300000   30185714       19543478 20200000   \n",
       "2012              NaN 14900000      NaN   13550000       27168182 23700000   \n",
       "2013              NaN      NaN 30433333   34000000       20686364 23850000   \n",
       "2014         17450000      NaN 21780000   22266667       18522222 23662500   \n",
       "2015              NaN      NaN 14350000   21175000       23425000 22125000   \n",
       "2016              NaN      NaN 13950000   21366667       21388889 23900000   \n",
       "2017              NaN      NaN 21766667   21666667       19866667 15300000   \n",
       "2018              NaN      NaN 19300000   19275000       25543750      NaN   \n",
       "2019              NaN      NaN 17700000   22200000       18158333 13550000   \n",
       "2020         23700000      NaN 23533333   12800000       27544444 17033333   \n",
       "2021              NaN      NaN 16950000        NaN       18533333      NaN   \n",
       "2022              NaN      NaN      NaN   13400000       12500000      NaN   \n",
       "\n",
       "channel_type    Games    Howto    Music     News  Nonprofit   People   Sports  \\\n",
       "created_year                                                                    \n",
       "2005         14600000 43500000 23644444 15200000        NaN      NaN 33400000   \n",
       "2006         38771429 14650000 41910526 17966667        NaN 22050000 16125000   \n",
       "2007         18175000      NaN 29470588 18200000        NaN      NaN 96000000   \n",
       "2008         20475000      NaN 26226316 15050000        NaN 17366667      NaN   \n",
       "2009         18200000 19250000 22648000 27600000   38600000 24300000 38750000   \n",
       "2010         25500000 13950000 21247368 16200000        NaN 12600000 12900000   \n",
       "2011         24100000 21000000 22300000      NaN        NaN 16650000 13850000   \n",
       "2012         20166667 13500000 27270588 37000000        NaN 16533333      NaN   \n",
       "2013         24018750      NaN 30050000 17133333        NaN 15400000      NaN   \n",
       "2014         19075000 13300000 26873333 17400000        NaN 17916667      NaN   \n",
       "2015         19788889 15975000 25000000 25200000        NaN 17157143      NaN   \n",
       "2016         15985714 17733333 27861538 26500000   16900000 25933333      NaN   \n",
       "2017         14520000 17411111 16966667 19400000        NaN 19638462      NaN   \n",
       "2018         25350000 19900000 29960000 14750000        NaN 21557143      NaN   \n",
       "2019         13500000 14300000 21166667      NaN        NaN 18685714      NaN   \n",
       "2020         12850000      NaN      NaN 34600000        NaN 18037500 16100000   \n",
       "2021         39400000 19300000      NaN      NaN        NaN 16455556      NaN   \n",
       "2022              NaN      NaN      NaN      NaN        NaN 13100000      NaN   \n",
       "\n",
       "channel_type     Tech  \n",
       "created_year           \n",
       "2005         17300000  \n",
       "2006         18300000  \n",
       "2007              NaN  \n",
       "2008         16400000  \n",
       "2009              NaN  \n",
       "2010         19300000  \n",
       "2011         18275000  \n",
       "2012         31700000  \n",
       "2013              NaN  \n",
       "2014              NaN  \n",
       "2015         18100000  \n",
       "2016              NaN  \n",
       "2017         27300000  \n",
       "2018              NaN  \n",
       "2019              NaN  \n",
       "2020         13700000  \n",
       "2021         14500000  \n",
       "2022              NaN  "
      ]
     },
     "execution_count": 132,
     "metadata": {},
     "output_type": "execute_result"
    }
   ],
   "source": [
    "yearly_channel_type_subscriber_averages= df.groupby(['created_year','channel_type'])['subscribers'].mean().unstack()\n",
    "yearly_channel_type_subscriber_averages"
   ]
  },
  {
   "cell_type": "code",
   "execution_count": 140,
   "id": "210143b8",
   "metadata": {
    "scrolled": false
   },
   "outputs": [
    {
     "data": {
      "image/png": "[encoded data removed]",
      "text/plain": [
       "<Figure size 1440x720 with 1 Axes>"
      ]
     },
     "metadata": {
      "needs_background": "light"
     },
     "output_type": "display_data"
    }
   ],
   "source": [
    "\n",
    "\n",
    "p = yearly_channel_type_subscriber_averages.tail(10).plot(kind = 'bar', stacked = False , width = 1, figsize=(20, 10))\n",
    "\n",
    "\n",
    "plt.xlabel('Channel Type', fontsize = 15)\n",
    "plt.xticks(rotation = 90)\n",
    "plt.xticks(rotation=0, horizontalalignment='center', fontsize = 15)\n",
    "plt. title( \"Yearly Subscriber Averages by Channel Type For the Past 10 Years\",fontsize = 30)\n",
    "plt.ylabel('Earnings Distribution', fontsize = 20)\n",
    "\n",
    "plt.legend(title = 'Channel Type', bbox_to_anchor = (1.05,1), loc = 'upper left')\n",
    "\n",
    "\n",
    "plt.show()"
   ]
  },
  {
   "cell_type": "markdown",
   "id": "f0f89d8f",
   "metadata": {},
   "source": [
    "## Data Visualizations"
   ]
  },
  {
   "cell_type": "markdown",
   "id": "243bd2a6",
   "metadata": {},
   "source": [
    "### Boxplot of Monthly Earnings by Channel Type"
   ]
  },
  {
   "cell_type": "code",
   "execution_count": 90,
   "id": "80450d5c",
   "metadata": {},
   "outputs": [
    {
     "data": {
      "image/png": "[encoded data removed]",
      "text/plain": [
       "<Figure size 1440x720 with 1 Axes>"
      ]
     },
     "metadata": {
      "needs_background": "light"
     },
     "output_type": "display_data"
    }
   ],
   "source": [
    "plt.figure(figsize = (20, 10))\n",
    "\n",
    "sns.boxplot( x = 'channel_type', y='highest_monthly_earnings', data = df)\n",
    "plt. title( \"Yearly Subscriber Averages by Channel Type\",fontsize = 35)\n",
    "plt.xlabel('Created year', fontsize = 20)\n",
    "plt.xticks(rotation=45, horizontalalignment='right', fontsize = 15)\n",
    "plt.ylabel('Average Subscribers', fontsize = 20)\n",
    "plt.xticks(rotation = 90)\n",
    "plt.show()"
   ]
  },
  {
   "cell_type": "code",
   "execution_count": null,
   "id": "8d10c981",
   "metadata": {},
   "outputs": [],
   "source": []
  },
  {
   "cell_type": "code",
   "execution_count": 91,
   "id": "25fc8cb4",
   "metadata": {},
   "outputs": [
    {
     "data": {
      "text/plain": [
       "category\n",
       "Entertainment           150056865\n",
       "Music                   111564524\n",
       "People & Blogs           72183154\n",
       "Comedy                   46113543\n",
       "Film & Animation         33704283\n",
       "Education                31283000\n",
       "Shows                    26489600\n",
       "Gaming                   25559111\n",
       "News & Politics          16624031\n",
       "Sports                    8876300\n",
       "Howto & Style             7711962\n",
       "Science & Technology      3434735\n",
       "Pets & Animals            3177729\n",
       "Autos & Vehicles          2172700\n",
       "Movies                     909400\n",
       "Nonprofits & Activism      780800\n",
       "Trailers                   723800\n",
       "Travel & Events            124000\n",
       "Name: highest_monthly_earnings, dtype: float64"
      ]
     },
     "execution_count": 91,
     "metadata": {},
     "output_type": "execute_result"
    }
   ],
   "source": [
    "monthly_earnings_by_category_sum = df.groupby('category')['highest_monthly_earnings'].sum().sort_values(ascending = False)\n",
    "monthly_earnings_by_category_sum"
   ]
  },
  {
   "cell_type": "code",
   "execution_count": 92,
   "id": "f2f4e469",
   "metadata": {},
   "outputs": [
    {
     "data": {
      "image/png": "[encoded data removed]",
      "text/plain": [
       "<Figure size 1440x720 with 1 Axes>"
      ]
     },
     "metadata": {},
     "output_type": "display_data"
    }
   ],
   "source": [
    "plt.figure(figsize = (20, 10))\n",
    "\n",
    "\n",
    "ax = monthly_earnings_by_category_sum.head(10).plot(kind='pie', autopct='%1.1f%%')\n",
    "\n",
    "\n",
    "plt.title('Percentage of Monthly Earnings Distribution Across Top 10 Categories')\n",
    "plt.ylabel('')\n",
    "\n",
    "plt.show()"
   ]
  },
  {
   "cell_type": "code",
   "execution_count": 93,
   "id": "3791b608",
   "metadata": {},
   "outputs": [
    {
     "data": {
      "text/plain": [
       "Index(['rank', 'Youtuber', 'subscribers', 'video views', 'category', 'Title',\n",
       "       'uploads', 'Country', 'Abbreviation', 'channel_type',\n",
       "       'video_views_rank', 'country_rank', 'channel_type_rank',\n",
       "       'video_views_for_the_last_30_days', 'lowest_monthly_earnings',\n",
       "       'highest_monthly_earnings', 'lowest_yearly_earnings',\n",
       "       'highest_yearly_earnings', 'subscribers_for_last_30_days',\n",
       "       'created_year', 'created_month', 'created_date',\n",
       "       'Gross tertiary education enrollment (%)', 'Population',\n",
       "       'Unemployment rate', 'Urban_population', 'Latitude', 'Longitude'],\n",
       "      dtype='object')"
      ]
     },
     "execution_count": 93,
     "metadata": {},
     "output_type": "execute_result"
    }
   ],
   "source": [
    "df.columns"
   ]
  },
  {
   "cell_type": "markdown",
   "id": "9ca2d869",
   "metadata": {},
   "source": [
    "### Scatter Plot of Tertiary Education Enrollment vs. Subscribers"
   ]
  },
  {
   "cell_type": "code",
   "execution_count": 94,
   "id": "e4b35226",
   "metadata": {},
   "outputs": [
    {
     "data": {
      "text/plain": [
       "(0     28\n",
       " 1     88\n",
       " 2     88\n",
       " 3     88\n",
       " 4     28\n",
       "       ..\n",
       " 990   51\n",
       " 991   28\n",
       " 992   60\n",
       " 993   67\n",
       " 994   28\n",
       " Name: Gross tertiary education enrollment (%), Length: 994, dtype: float64,\n",
       " 0      245000000\n",
       " 1      170000000\n",
       " 2      166000000\n",
       " 3      162000000\n",
       " 4      159000000\n",
       "          ...    \n",
       " 990     12300000\n",
       " 991     12300000\n",
       " 992     12300000\n",
       " 993     12300000\n",
       " 994     12300000\n",
       " Name: subscribers, Length: 994, dtype: int64)"
      ]
     },
     "execution_count": 94,
     "metadata": {},
     "output_type": "execute_result"
    }
   ],
   "source": [
    "tertiary_enrollment_and_subscribers= df['Gross tertiary education enrollment (%)'],df['subscribers']\n",
    "tertiary_enrollment_and_subscribers"
   ]
  },
  {
   "cell_type": "code",
   "execution_count": 143,
   "id": "3bb08b69",
   "metadata": {},
   "outputs": [
    {
     "data": {
      "image/png": "[encoded data removed]",
      "text/plain": [
       "<Figure size 1440x1080 with 1 Axes>"
      ]
     },
     "metadata": {
      "needs_background": "light"
     },
     "output_type": "display_data"
    }
   ],
   "source": [
    "plt.figure(figsize = (20, 15))\n",
    "\n",
    "sns.scatterplot( x = 'Gross tertiary education enrollment (%)', y = 'subscribers', data =df, hue = 'channel_type')\n",
    "\n",
    "plt.title('Correlation Between Tertiary Education Enrollment and Subscribers', fontsize = 25)\n",
    "plt.xlabel('Gross Tertiary Education Enrolment', fontsize = 15)\n",
    "plt.ylabel('subscribers', fontsize = 15)\n",
    "plt.show()"
   ]
  },
  {
   "cell_type": "code",
   "execution_count": null,
   "id": "be4e79c9",
   "metadata": {},
   "outputs": [],
   "source": []
  },
  {
   "cell_type": "code",
   "execution_count": null,
   "id": "688fbff8",
   "metadata": {},
   "outputs": [],
   "source": []
  },
  {
   "cell_type": "code",
   "execution_count": null,
   "id": "c418c089",
   "metadata": {},
   "outputs": [],
   "source": []
  },
  {
   "cell_type": "code",
   "execution_count": null,
   "id": "171d44e2",
   "metadata": {},
   "outputs": [],
   "source": []
  },
  {
   "cell_type": "code",
   "execution_count": null,
   "id": "29c303fc",
   "metadata": {},
   "outputs": [],
   "source": []
  },
  {
   "cell_type": "code",
   "execution_count": null,
   "id": "a9d5d75d",
   "metadata": {},
   "outputs": [],
   "source": []
  },
  {
   "cell_type": "code",
   "execution_count": null,
   "id": "6f07ea15",
   "metadata": {},
   "outputs": [],
   "source": []
  },
  {
   "cell_type": "code",
   "execution_count": null,
   "id": "ed062671",
   "metadata": {},
   "outputs": [],
   "source": []
  },
  {
   "cell_type": "code",
   "execution_count": null,
   "id": "e4f12e29",
   "metadata": {},
   "outputs": [],
   "source": []
  },
  {
   "cell_type": "code",
   "execution_count": null,
   "id": "6fea0445",
   "metadata": {},
   "outputs": [],
   "source": []
  },
  {
   "cell_type": "code",
   "execution_count": null,
   "id": "f8a1d36d",
   "metadata": {},
   "outputs": [],
   "source": []
  },
  {
   "cell_type": "code",
   "execution_count": null,
   "id": "9a6f7ae9",
   "metadata": {},
   "outputs": [],
   "source": []
  },
  {
   "cell_type": "code",
   "execution_count": null,
   "id": "e019992b",
   "metadata": {},
   "outputs": [],
   "source": []
  },
  {
   "cell_type": "code",
   "execution_count": null,
   "id": "7f923701",
   "metadata": {},
   "outputs": [],
   "source": []
  },
  {
   "cell_type": "code",
   "execution_count": null,
   "id": "95692a27",
   "metadata": {},
   "outputs": [],
   "source": []
  },
  {
   "cell_type": "code",
   "execution_count": null,
   "id": "b36bb39a",
   "metadata": {},
   "outputs": [],
   "source": []
  },
  {
   "cell_type": "code",
   "execution_count": null,
   "id": "652560f4",
   "metadata": {},
   "outputs": [],
   "source": []
  },
  {
   "cell_type": "code",
   "execution_count": null,
   "id": "9652100f",
   "metadata": {},
   "outputs": [],
   "source": []
  },
  {
   "cell_type": "code",
   "execution_count": null,
   "id": "525e343f",
   "metadata": {},
   "outputs": [],
   "source": []
  }
 ],
 "metadata": {
  "kernelspec": {
   "display_name": "Python 3",
   "language": "python",
   "name": "python3"
  },
  "language_info": {
   "codemirror_mode": {
    "name": "ipython",
    "version": 3
   },
   "file_extension": ".py",
   "mimetype": "text/x-python",
   "name": "python",
   "nbconvert_exporter": "python",
   "pygments_lexer": "ipython3",
   "version": "3.8.8"
  }
 },
 "nbformat": 4,
 "nbformat_minor": 5
}
